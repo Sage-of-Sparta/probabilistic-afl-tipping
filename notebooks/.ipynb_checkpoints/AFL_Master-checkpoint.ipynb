{
 "cells": [
  {
   "cell_type": "code",
   "execution_count": 1,
   "id": "8a96f668",
   "metadata": {},
   "outputs": [],
   "source": [
    "import pandas as pd"
   ]
  },
  {
   "cell_type": "code",
   "execution_count": 2,
   "id": "b32bfdd6",
   "metadata": {},
   "outputs": [],
   "source": [
    "from afl_model_build import predict_round"
   ]
  },
  {
   "cell_type": "code",
   "execution_count": null,
   "id": "624789c0",
   "metadata": {},
   "outputs": [],
   "source": []
  },
  {
   "cell_type": "code",
   "execution_count": null,
   "id": "6cd68b28",
   "metadata": {},
   "outputs": [],
   "source": []
  },
  {
   "cell_type": "code",
   "execution_count": null,
   "id": "8c5a4504",
   "metadata": {},
   "outputs": [],
   "source": []
  },
  {
   "cell_type": "code",
   "execution_count": 4,
   "id": "81dea4ec",
   "metadata": {},
   "outputs": [
    {
     "name": "stdout",
     "output_type": "stream",
     "text": [
      "Fitting 5 folds for each of 18 candidates, totalling 90 fits\n",
      "Fitting 5 folds for each of 18 candidates, totalling 90 fits\n",
      "Fitting 5 folds for each of 18 candidates, totalling 90 fits\n",
      "Fitting 5 folds for each of 18 candidates, totalling 90 fits\n",
      "Fitting 5 folds for each of 18 candidates, totalling 90 fits\n",
      "Fitting 5 folds for each of 18 candidates, totalling 90 fits\n",
      "Fitting 5 folds for each of 18 candidates, totalling 90 fits\n",
      "Fitting 5 folds for each of 18 candidates, totalling 90 fits\n"
     ]
    }
   ],
   "source": [
    "rounds = [3,4,5,6,7,8,9,10]\n",
    "\n",
    "model_perf = pd.DataFrame()\n",
    "game_list = pd.DataFrame()\n",
    "\n",
    "for i in range(0,len(rounds)):\n",
    "    \n",
    "    accuracy, df_next_games_teams, features, afl_df = predict_round(rounds[i])\n",
    "    \n",
    "    score_1 = df_next_games_teams['score_1'].sum()\n",
    "    score_2 = df_next_games_teams['score_2'].sum()\n",
    "    \n",
    "    model_perf = model_perf.append({'round':rounds[i],'accuracy':accuracy,'score_1':score_1,'score_2':score_2 }, ignore_index=True)\n",
    "    \n",
    "    if len(game_list) == 0:\n",
    "        game_list = df_next_games_teams\n",
    "    else:\n",
    "        game_list = pd.concat([game_list, df_next_games_teams], ignore_index=True)\n",
    "    "
   ]
  },
  {
   "cell_type": "code",
   "execution_count": 5,
   "id": "afe6d4fe",
   "metadata": {},
   "outputs": [
    {
     "data": {
      "text/html": [
       "<div>\n",
       "<style scoped>\n",
       "    .dataframe tbody tr th:only-of-type {\n",
       "        vertical-align: middle;\n",
       "    }\n",
       "\n",
       "    .dataframe tbody tr th {\n",
       "        vertical-align: top;\n",
       "    }\n",
       "\n",
       "    .dataframe thead th {\n",
       "        text-align: right;\n",
       "    }\n",
       "</style>\n",
       "<table border=\"1\" class=\"dataframe\">\n",
       "  <thead>\n",
       "    <tr style=\"text-align: right;\">\n",
       "      <th></th>\n",
       "      <th>round</th>\n",
       "      <th>accuracy</th>\n",
       "      <th>score_1</th>\n",
       "      <th>score_2</th>\n",
       "    </tr>\n",
       "  </thead>\n",
       "  <tbody>\n",
       "    <tr>\n",
       "      <th>0</th>\n",
       "      <td>3.0</td>\n",
       "      <td>55.244755</td>\n",
       "      <td>2.220100</td>\n",
       "      <td>3.300066</td>\n",
       "    </tr>\n",
       "    <tr>\n",
       "      <th>1</th>\n",
       "      <td>4.0</td>\n",
       "      <td>56.944444</td>\n",
       "      <td>-1.972629</td>\n",
       "      <td>5.910100</td>\n",
       "    </tr>\n",
       "    <tr>\n",
       "      <th>2</th>\n",
       "      <td>5.0</td>\n",
       "      <td>59.106529</td>\n",
       "      <td>-0.631942</td>\n",
       "      <td>6.875750</td>\n",
       "    </tr>\n",
       "    <tr>\n",
       "      <th>3</th>\n",
       "      <td>6.0</td>\n",
       "      <td>58.163265</td>\n",
       "      <td>-11.883359</td>\n",
       "      <td>6.020990</td>\n",
       "    </tr>\n",
       "    <tr>\n",
       "      <th>4</th>\n",
       "      <td>7.0</td>\n",
       "      <td>53.198653</td>\n",
       "      <td>-4.879536</td>\n",
       "      <td>0.864655</td>\n",
       "    </tr>\n",
       "    <tr>\n",
       "      <th>5</th>\n",
       "      <td>8.0</td>\n",
       "      <td>59.866221</td>\n",
       "      <td>4.816387</td>\n",
       "      <td>4.816387</td>\n",
       "    </tr>\n",
       "    <tr>\n",
       "      <th>6</th>\n",
       "      <td>9.0</td>\n",
       "      <td>55.298013</td>\n",
       "      <td>-7.807406</td>\n",
       "      <td>5.103850</td>\n",
       "    </tr>\n",
       "    <tr>\n",
       "      <th>7</th>\n",
       "      <td>10.0</td>\n",
       "      <td>58.360656</td>\n",
       "      <td>0.847997</td>\n",
       "      <td>0.000000</td>\n",
       "    </tr>\n",
       "  </tbody>\n",
       "</table>\n",
       "</div>"
      ],
      "text/plain": [
       "   round   accuracy    score_1   score_2\n",
       "0    3.0  55.244755   2.220100  3.300066\n",
       "1    4.0  56.944444  -1.972629  5.910100\n",
       "2    5.0  59.106529  -0.631942  6.875750\n",
       "3    6.0  58.163265 -11.883359  6.020990\n",
       "4    7.0  53.198653  -4.879536  0.864655\n",
       "5    8.0  59.866221   4.816387  4.816387\n",
       "6    9.0  55.298013  -7.807406  5.103850\n",
       "7   10.0  58.360656   0.847997  0.000000"
      ]
     },
     "execution_count": 5,
     "metadata": {},
     "output_type": "execute_result"
    }
   ],
   "source": [
    "model_perf"
   ]
  },
  {
   "cell_type": "code",
   "execution_count": 6,
   "id": "fd35dd9a",
   "metadata": {},
   "outputs": [
    {
     "name": "stdout",
     "output_type": "stream",
     "text": [
      "-19.29038803231792\n",
      "32.89179587309136\n"
     ]
    }
   ],
   "source": [
    "print(model_perf['score_1'].sum())\n",
    "print(model_perf['score_2'].sum())\n"
   ]
  },
  {
   "cell_type": "code",
   "execution_count": null,
   "id": "5b79f39f",
   "metadata": {},
   "outputs": [],
   "source": []
  },
  {
   "cell_type": "code",
   "execution_count": null,
   "id": "5354912a",
   "metadata": {},
   "outputs": [],
   "source": []
  }
 ],
 "metadata": {
  "kernelspec": {
   "display_name": "Python 3 (ipykernel)",
   "language": "python",
   "name": "python3"
  },
  "language_info": {
   "codemirror_mode": {
    "name": "ipython",
    "version": 3
   },
   "file_extension": ".py",
   "mimetype": "text/x-python",
   "name": "python",
   "nbconvert_exporter": "python",
   "pygments_lexer": "ipython3",
   "version": "3.8.12"
  }
 },
 "nbformat": 4,
 "nbformat_minor": 5
}
