{
 "cells": [
  {
   "cell_type": "code",
   "execution_count": 3,
   "id": "4791a110",
   "metadata": {},
   "outputs": [],
   "source": [
    "import pandas as pd\n",
    "import seaborn as sns\n",
    "import numpy as np\n",
    "import matplotlib.pyplot as plt\n",
    "import warnings\n",
    "warnings.filterwarnings('ignore')"
   ]
  },
  {
   "cell_type": "markdown",
   "id": "bba92c21",
   "metadata": {},
   "source": [
    "## Load match related data"
   ]
  },
  {
   "cell_type": "code",
   "execution_count": 4,
   "id": "4a31abe9",
   "metadata": {},
   "outputs": [
    {
     "name": "stdout",
     "output_type": "stream",
     "text": [
      "(207, 75)\n",
      "(207, 75)\n",
      "(162, 75)\n",
      "(207, 75)\n",
      "(90, 75)\n",
      "(873, 75)\n"
     ]
    },
    {
     "data": {
      "text/plain": [
       "Index(['match.name', 'match.date', 'match.status', 'match.matchId',\n",
       "       'match.venue', 'match.utcStartTime', 'match.homeTeamId',\n",
       "       'match.awayTeamId', 'match.round', 'match.venueLocalStartTime',\n",
       "       'match.abbr', 'match.twitterHashTag', 'match.homeTeam.name',\n",
       "       'match.homeTeam.timeZone', 'match.homeTeam.teamId',\n",
       "       'match.homeTeam.abbr', 'match.homeTeam.nickname', 'match.awayTeam.name',\n",
       "       'match.awayTeam.timeZone', 'match.awayTeam.teamId',\n",
       "       'match.awayTeam.abbr', 'match.awayTeam.nickname', 'venue.address',\n",
       "       'venue.name', 'venue.state', 'venue.timeZone', 'venue.venueId',\n",
       "       'venue.abbreviation', 'venue.capacity', 'venue.groundDimension',\n",
       "       'venue.latitude', 'venue.longitude', 'round.name', 'round.year',\n",
       "       'round.roundId', 'round.abbreviation', 'round.competitionId',\n",
       "       'round.roundNumber', 'status', 'matchId', 'scoreWorm', 'scoreMap',\n",
       "       'lastUpdated', 'homeTeamScore.periodScore',\n",
       "       'homeTeamScore.rushedBehinds', 'homeTeamScore.minutesInFront',\n",
       "       'homeTeamScore.matchScore.totalScore', 'homeTeamScore.matchScore.goals',\n",
       "       'homeTeamScore.matchScore.behinds',\n",
       "       'homeTeamScore.matchScore.superGoals', 'awayTeamScore.periodScore',\n",
       "       'awayTeamScore.rushedBehinds', 'awayTeamScore.minutesInFront',\n",
       "       'awayTeamScore.matchScore.totalScore', 'awayTeamScore.matchScore.goals',\n",
       "       'awayTeamScore.matchScore.behinds',\n",
       "       'awayTeamScore.matchScore.superGoals', 'matchClock.periods',\n",
       "       'weather.description', 'weather.tempInCelsius', 'weather.weatherType',\n",
       "       'homeTeamScoreChart.goals', 'homeTeamScoreChart.leftBehinds',\n",
       "       'homeTeamScoreChart.rightBehinds', 'homeTeamScoreChart.leftPosters',\n",
       "       'homeTeamScoreChart.rightPosters', 'homeTeamScoreChart.rushedBehinds',\n",
       "       'homeTeamScoreChart.touchedBehinds', 'awayTeamScoreChart.goals',\n",
       "       'awayTeamScoreChart.leftBehinds', 'awayTeamScoreChart.rightBehinds',\n",
       "       'awayTeamScoreChart.leftPosters', 'awayTeamScoreChart.rightPosters',\n",
       "       'awayTeamScoreChart.rushedBehinds',\n",
       "       'awayTeamScoreChart.touchedBehinds'],\n",
       "      dtype='object')"
      ]
     },
     "execution_count": 4,
     "metadata": {},
     "output_type": "execute_result"
    }
   ],
   "source": [
    "df_2018 = pd.read_csv(\"../data/afl_results_2018.csv\")\n",
    "print(df_2018.shape)\n",
    "\n",
    "df_2019 = pd.read_csv(\"../data/afl_results_2019.csv\")\n",
    "print(df_2019.shape)\n",
    "df_2020 = pd.read_csv(\"../data/afl_results_2020.csv\")\n",
    "print(df_2020.shape)\n",
    "df_2021 = pd.read_csv(\"../data/afl_results_2021.csv\")\n",
    "print(df_2021.shape)\n",
    "df_2022 = pd.read_csv(\"../data/afl_results_2022.csv\")\n",
    "print(df_2022.shape)\n",
    "\n",
    "df_all = pd.concat([df_2018, df_2019, df_2020, df_2021, df_2022], axis=0)\n",
    "print(df_all.shape)\n",
    "df_all.columns"
   ]
  },
  {
   "cell_type": "code",
   "execution_count": 5,
   "id": "41f6f249",
   "metadata": {},
   "outputs": [
    {
     "ename": "FileNotFoundError",
     "evalue": "[Errno 2] No such file or directory: 'data/fixture_2022.csv'",
     "output_type": "error",
     "traceback": [
      "\u001b[1;31m---------------------------------------------------------------------------\u001b[0m",
      "\u001b[1;31mFileNotFoundError\u001b[0m                         Traceback (most recent call last)",
      "Input \u001b[1;32mIn [5]\u001b[0m, in \u001b[0;36m<cell line: 1>\u001b[1;34m()\u001b[0m\n\u001b[1;32m----> 1\u001b[0m df_fixture \u001b[38;5;241m=\u001b[39m \u001b[43mpd\u001b[49m\u001b[38;5;241;43m.\u001b[39;49m\u001b[43mread_csv\u001b[49m\u001b[43m(\u001b[49m\u001b[38;5;124;43m\"\u001b[39;49m\u001b[38;5;124;43mdata/fixture_2022.csv\u001b[39;49m\u001b[38;5;124;43m\"\u001b[39;49m\u001b[43m)\u001b[49m\n\u001b[0;32m      2\u001b[0m \u001b[38;5;28mprint\u001b[39m(df_fixture\u001b[38;5;241m.\u001b[39mshape)\n\u001b[0;32m      3\u001b[0m df_fixture\u001b[38;5;241m.\u001b[39mcolumns\n",
      "File \u001b[1;32mC:\\Programs\\anaconda3\\lib\\site-packages\\pandas\\util\\_decorators.py:311\u001b[0m, in \u001b[0;36mdeprecate_nonkeyword_arguments.<locals>.decorate.<locals>.wrapper\u001b[1;34m(*args, **kwargs)\u001b[0m\n\u001b[0;32m    305\u001b[0m \u001b[38;5;28;01mif\u001b[39;00m \u001b[38;5;28mlen\u001b[39m(args) \u001b[38;5;241m>\u001b[39m num_allow_args:\n\u001b[0;32m    306\u001b[0m     warnings\u001b[38;5;241m.\u001b[39mwarn(\n\u001b[0;32m    307\u001b[0m         msg\u001b[38;5;241m.\u001b[39mformat(arguments\u001b[38;5;241m=\u001b[39marguments),\n\u001b[0;32m    308\u001b[0m         \u001b[38;5;167;01mFutureWarning\u001b[39;00m,\n\u001b[0;32m    309\u001b[0m         stacklevel\u001b[38;5;241m=\u001b[39mstacklevel,\n\u001b[0;32m    310\u001b[0m     )\n\u001b[1;32m--> 311\u001b[0m \u001b[38;5;28;01mreturn\u001b[39;00m \u001b[43mfunc\u001b[49m\u001b[43m(\u001b[49m\u001b[38;5;241;43m*\u001b[39;49m\u001b[43margs\u001b[49m\u001b[43m,\u001b[49m\u001b[43m \u001b[49m\u001b[38;5;241;43m*\u001b[39;49m\u001b[38;5;241;43m*\u001b[39;49m\u001b[43mkwargs\u001b[49m\u001b[43m)\u001b[49m\n",
      "File \u001b[1;32mC:\\Programs\\anaconda3\\lib\\site-packages\\pandas\\io\\parsers\\readers.py:680\u001b[0m, in \u001b[0;36mread_csv\u001b[1;34m(filepath_or_buffer, sep, delimiter, header, names, index_col, usecols, squeeze, prefix, mangle_dupe_cols, dtype, engine, converters, true_values, false_values, skipinitialspace, skiprows, skipfooter, nrows, na_values, keep_default_na, na_filter, verbose, skip_blank_lines, parse_dates, infer_datetime_format, keep_date_col, date_parser, dayfirst, cache_dates, iterator, chunksize, compression, thousands, decimal, lineterminator, quotechar, quoting, doublequote, escapechar, comment, encoding, encoding_errors, dialect, error_bad_lines, warn_bad_lines, on_bad_lines, delim_whitespace, low_memory, memory_map, float_precision, storage_options)\u001b[0m\n\u001b[0;32m    665\u001b[0m kwds_defaults \u001b[38;5;241m=\u001b[39m _refine_defaults_read(\n\u001b[0;32m    666\u001b[0m     dialect,\n\u001b[0;32m    667\u001b[0m     delimiter,\n\u001b[1;32m   (...)\u001b[0m\n\u001b[0;32m    676\u001b[0m     defaults\u001b[38;5;241m=\u001b[39m{\u001b[38;5;124m\"\u001b[39m\u001b[38;5;124mdelimiter\u001b[39m\u001b[38;5;124m\"\u001b[39m: \u001b[38;5;124m\"\u001b[39m\u001b[38;5;124m,\u001b[39m\u001b[38;5;124m\"\u001b[39m},\n\u001b[0;32m    677\u001b[0m )\n\u001b[0;32m    678\u001b[0m kwds\u001b[38;5;241m.\u001b[39mupdate(kwds_defaults)\n\u001b[1;32m--> 680\u001b[0m \u001b[38;5;28;01mreturn\u001b[39;00m \u001b[43m_read\u001b[49m\u001b[43m(\u001b[49m\u001b[43mfilepath_or_buffer\u001b[49m\u001b[43m,\u001b[49m\u001b[43m \u001b[49m\u001b[43mkwds\u001b[49m\u001b[43m)\u001b[49m\n",
      "File \u001b[1;32mC:\\Programs\\anaconda3\\lib\\site-packages\\pandas\\io\\parsers\\readers.py:575\u001b[0m, in \u001b[0;36m_read\u001b[1;34m(filepath_or_buffer, kwds)\u001b[0m\n\u001b[0;32m    572\u001b[0m _validate_names(kwds\u001b[38;5;241m.\u001b[39mget(\u001b[38;5;124m\"\u001b[39m\u001b[38;5;124mnames\u001b[39m\u001b[38;5;124m\"\u001b[39m, \u001b[38;5;28;01mNone\u001b[39;00m))\n\u001b[0;32m    574\u001b[0m \u001b[38;5;66;03m# Create the parser.\u001b[39;00m\n\u001b[1;32m--> 575\u001b[0m parser \u001b[38;5;241m=\u001b[39m \u001b[43mTextFileReader\u001b[49m\u001b[43m(\u001b[49m\u001b[43mfilepath_or_buffer\u001b[49m\u001b[43m,\u001b[49m\u001b[43m \u001b[49m\u001b[38;5;241;43m*\u001b[39;49m\u001b[38;5;241;43m*\u001b[39;49m\u001b[43mkwds\u001b[49m\u001b[43m)\u001b[49m\n\u001b[0;32m    577\u001b[0m \u001b[38;5;28;01mif\u001b[39;00m chunksize \u001b[38;5;129;01mor\u001b[39;00m iterator:\n\u001b[0;32m    578\u001b[0m     \u001b[38;5;28;01mreturn\u001b[39;00m parser\n",
      "File \u001b[1;32mC:\\Programs\\anaconda3\\lib\\site-packages\\pandas\\io\\parsers\\readers.py:933\u001b[0m, in \u001b[0;36mTextFileReader.__init__\u001b[1;34m(self, f, engine, **kwds)\u001b[0m\n\u001b[0;32m    930\u001b[0m     \u001b[38;5;28mself\u001b[39m\u001b[38;5;241m.\u001b[39moptions[\u001b[38;5;124m\"\u001b[39m\u001b[38;5;124mhas_index_names\u001b[39m\u001b[38;5;124m\"\u001b[39m] \u001b[38;5;241m=\u001b[39m kwds[\u001b[38;5;124m\"\u001b[39m\u001b[38;5;124mhas_index_names\u001b[39m\u001b[38;5;124m\"\u001b[39m]\n\u001b[0;32m    932\u001b[0m \u001b[38;5;28mself\u001b[39m\u001b[38;5;241m.\u001b[39mhandles: IOHandles \u001b[38;5;241m|\u001b[39m \u001b[38;5;28;01mNone\u001b[39;00m \u001b[38;5;241m=\u001b[39m \u001b[38;5;28;01mNone\u001b[39;00m\n\u001b[1;32m--> 933\u001b[0m \u001b[38;5;28mself\u001b[39m\u001b[38;5;241m.\u001b[39m_engine \u001b[38;5;241m=\u001b[39m \u001b[38;5;28;43mself\u001b[39;49m\u001b[38;5;241;43m.\u001b[39;49m\u001b[43m_make_engine\u001b[49m\u001b[43m(\u001b[49m\u001b[43mf\u001b[49m\u001b[43m,\u001b[49m\u001b[43m \u001b[49m\u001b[38;5;28;43mself\u001b[39;49m\u001b[38;5;241;43m.\u001b[39;49m\u001b[43mengine\u001b[49m\u001b[43m)\u001b[49m\n",
      "File \u001b[1;32mC:\\Programs\\anaconda3\\lib\\site-packages\\pandas\\io\\parsers\\readers.py:1217\u001b[0m, in \u001b[0;36mTextFileReader._make_engine\u001b[1;34m(self, f, engine)\u001b[0m\n\u001b[0;32m   1213\u001b[0m     mode \u001b[38;5;241m=\u001b[39m \u001b[38;5;124m\"\u001b[39m\u001b[38;5;124mrb\u001b[39m\u001b[38;5;124m\"\u001b[39m\n\u001b[0;32m   1214\u001b[0m \u001b[38;5;66;03m# error: No overload variant of \"get_handle\" matches argument types\u001b[39;00m\n\u001b[0;32m   1215\u001b[0m \u001b[38;5;66;03m# \"Union[str, PathLike[str], ReadCsvBuffer[bytes], ReadCsvBuffer[str]]\"\u001b[39;00m\n\u001b[0;32m   1216\u001b[0m \u001b[38;5;66;03m# , \"str\", \"bool\", \"Any\", \"Any\", \"Any\", \"Any\", \"Any\"\u001b[39;00m\n\u001b[1;32m-> 1217\u001b[0m \u001b[38;5;28mself\u001b[39m\u001b[38;5;241m.\u001b[39mhandles \u001b[38;5;241m=\u001b[39m \u001b[43mget_handle\u001b[49m\u001b[43m(\u001b[49m\u001b[43m  \u001b[49m\u001b[38;5;66;43;03m# type: ignore[call-overload]\u001b[39;49;00m\n\u001b[0;32m   1218\u001b[0m \u001b[43m    \u001b[49m\u001b[43mf\u001b[49m\u001b[43m,\u001b[49m\n\u001b[0;32m   1219\u001b[0m \u001b[43m    \u001b[49m\u001b[43mmode\u001b[49m\u001b[43m,\u001b[49m\n\u001b[0;32m   1220\u001b[0m \u001b[43m    \u001b[49m\u001b[43mencoding\u001b[49m\u001b[38;5;241;43m=\u001b[39;49m\u001b[38;5;28;43mself\u001b[39;49m\u001b[38;5;241;43m.\u001b[39;49m\u001b[43moptions\u001b[49m\u001b[38;5;241;43m.\u001b[39;49m\u001b[43mget\u001b[49m\u001b[43m(\u001b[49m\u001b[38;5;124;43m\"\u001b[39;49m\u001b[38;5;124;43mencoding\u001b[39;49m\u001b[38;5;124;43m\"\u001b[39;49m\u001b[43m,\u001b[49m\u001b[43m \u001b[49m\u001b[38;5;28;43;01mNone\u001b[39;49;00m\u001b[43m)\u001b[49m\u001b[43m,\u001b[49m\n\u001b[0;32m   1221\u001b[0m \u001b[43m    \u001b[49m\u001b[43mcompression\u001b[49m\u001b[38;5;241;43m=\u001b[39;49m\u001b[38;5;28;43mself\u001b[39;49m\u001b[38;5;241;43m.\u001b[39;49m\u001b[43moptions\u001b[49m\u001b[38;5;241;43m.\u001b[39;49m\u001b[43mget\u001b[49m\u001b[43m(\u001b[49m\u001b[38;5;124;43m\"\u001b[39;49m\u001b[38;5;124;43mcompression\u001b[39;49m\u001b[38;5;124;43m\"\u001b[39;49m\u001b[43m,\u001b[49m\u001b[43m \u001b[49m\u001b[38;5;28;43;01mNone\u001b[39;49;00m\u001b[43m)\u001b[49m\u001b[43m,\u001b[49m\n\u001b[0;32m   1222\u001b[0m \u001b[43m    \u001b[49m\u001b[43mmemory_map\u001b[49m\u001b[38;5;241;43m=\u001b[39;49m\u001b[38;5;28;43mself\u001b[39;49m\u001b[38;5;241;43m.\u001b[39;49m\u001b[43moptions\u001b[49m\u001b[38;5;241;43m.\u001b[39;49m\u001b[43mget\u001b[49m\u001b[43m(\u001b[49m\u001b[38;5;124;43m\"\u001b[39;49m\u001b[38;5;124;43mmemory_map\u001b[39;49m\u001b[38;5;124;43m\"\u001b[39;49m\u001b[43m,\u001b[49m\u001b[43m \u001b[49m\u001b[38;5;28;43;01mFalse\u001b[39;49;00m\u001b[43m)\u001b[49m\u001b[43m,\u001b[49m\n\u001b[0;32m   1223\u001b[0m \u001b[43m    \u001b[49m\u001b[43mis_text\u001b[49m\u001b[38;5;241;43m=\u001b[39;49m\u001b[43mis_text\u001b[49m\u001b[43m,\u001b[49m\n\u001b[0;32m   1224\u001b[0m \u001b[43m    \u001b[49m\u001b[43merrors\u001b[49m\u001b[38;5;241;43m=\u001b[39;49m\u001b[38;5;28;43mself\u001b[39;49m\u001b[38;5;241;43m.\u001b[39;49m\u001b[43moptions\u001b[49m\u001b[38;5;241;43m.\u001b[39;49m\u001b[43mget\u001b[49m\u001b[43m(\u001b[49m\u001b[38;5;124;43m\"\u001b[39;49m\u001b[38;5;124;43mencoding_errors\u001b[39;49m\u001b[38;5;124;43m\"\u001b[39;49m\u001b[43m,\u001b[49m\u001b[43m \u001b[49m\u001b[38;5;124;43m\"\u001b[39;49m\u001b[38;5;124;43mstrict\u001b[39;49m\u001b[38;5;124;43m\"\u001b[39;49m\u001b[43m)\u001b[49m\u001b[43m,\u001b[49m\n\u001b[0;32m   1225\u001b[0m \u001b[43m    \u001b[49m\u001b[43mstorage_options\u001b[49m\u001b[38;5;241;43m=\u001b[39;49m\u001b[38;5;28;43mself\u001b[39;49m\u001b[38;5;241;43m.\u001b[39;49m\u001b[43moptions\u001b[49m\u001b[38;5;241;43m.\u001b[39;49m\u001b[43mget\u001b[49m\u001b[43m(\u001b[49m\u001b[38;5;124;43m\"\u001b[39;49m\u001b[38;5;124;43mstorage_options\u001b[39;49m\u001b[38;5;124;43m\"\u001b[39;49m\u001b[43m,\u001b[49m\u001b[43m \u001b[49m\u001b[38;5;28;43;01mNone\u001b[39;49;00m\u001b[43m)\u001b[49m\u001b[43m,\u001b[49m\n\u001b[0;32m   1226\u001b[0m \u001b[43m\u001b[49m\u001b[43m)\u001b[49m\n\u001b[0;32m   1227\u001b[0m \u001b[38;5;28;01massert\u001b[39;00m \u001b[38;5;28mself\u001b[39m\u001b[38;5;241m.\u001b[39mhandles \u001b[38;5;129;01mis\u001b[39;00m \u001b[38;5;129;01mnot\u001b[39;00m \u001b[38;5;28;01mNone\u001b[39;00m\n\u001b[0;32m   1228\u001b[0m f \u001b[38;5;241m=\u001b[39m \u001b[38;5;28mself\u001b[39m\u001b[38;5;241m.\u001b[39mhandles\u001b[38;5;241m.\u001b[39mhandle\n",
      "File \u001b[1;32mC:\\Programs\\anaconda3\\lib\\site-packages\\pandas\\io\\common.py:789\u001b[0m, in \u001b[0;36mget_handle\u001b[1;34m(path_or_buf, mode, encoding, compression, memory_map, is_text, errors, storage_options)\u001b[0m\n\u001b[0;32m    784\u001b[0m \u001b[38;5;28;01melif\u001b[39;00m \u001b[38;5;28misinstance\u001b[39m(handle, \u001b[38;5;28mstr\u001b[39m):\n\u001b[0;32m    785\u001b[0m     \u001b[38;5;66;03m# Check whether the filename is to be opened in binary mode.\u001b[39;00m\n\u001b[0;32m    786\u001b[0m     \u001b[38;5;66;03m# Binary mode does not support 'encoding' and 'newline'.\u001b[39;00m\n\u001b[0;32m    787\u001b[0m     \u001b[38;5;28;01mif\u001b[39;00m ioargs\u001b[38;5;241m.\u001b[39mencoding \u001b[38;5;129;01mand\u001b[39;00m \u001b[38;5;124m\"\u001b[39m\u001b[38;5;124mb\u001b[39m\u001b[38;5;124m\"\u001b[39m \u001b[38;5;129;01mnot\u001b[39;00m \u001b[38;5;129;01min\u001b[39;00m ioargs\u001b[38;5;241m.\u001b[39mmode:\n\u001b[0;32m    788\u001b[0m         \u001b[38;5;66;03m# Encoding\u001b[39;00m\n\u001b[1;32m--> 789\u001b[0m         handle \u001b[38;5;241m=\u001b[39m \u001b[38;5;28;43mopen\u001b[39;49m\u001b[43m(\u001b[49m\n\u001b[0;32m    790\u001b[0m \u001b[43m            \u001b[49m\u001b[43mhandle\u001b[49m\u001b[43m,\u001b[49m\n\u001b[0;32m    791\u001b[0m \u001b[43m            \u001b[49m\u001b[43mioargs\u001b[49m\u001b[38;5;241;43m.\u001b[39;49m\u001b[43mmode\u001b[49m\u001b[43m,\u001b[49m\n\u001b[0;32m    792\u001b[0m \u001b[43m            \u001b[49m\u001b[43mencoding\u001b[49m\u001b[38;5;241;43m=\u001b[39;49m\u001b[43mioargs\u001b[49m\u001b[38;5;241;43m.\u001b[39;49m\u001b[43mencoding\u001b[49m\u001b[43m,\u001b[49m\n\u001b[0;32m    793\u001b[0m \u001b[43m            \u001b[49m\u001b[43merrors\u001b[49m\u001b[38;5;241;43m=\u001b[39;49m\u001b[43merrors\u001b[49m\u001b[43m,\u001b[49m\n\u001b[0;32m    794\u001b[0m \u001b[43m            \u001b[49m\u001b[43mnewline\u001b[49m\u001b[38;5;241;43m=\u001b[39;49m\u001b[38;5;124;43m\"\u001b[39;49m\u001b[38;5;124;43m\"\u001b[39;49m\u001b[43m,\u001b[49m\n\u001b[0;32m    795\u001b[0m \u001b[43m        \u001b[49m\u001b[43m)\u001b[49m\n\u001b[0;32m    796\u001b[0m     \u001b[38;5;28;01melse\u001b[39;00m:\n\u001b[0;32m    797\u001b[0m         \u001b[38;5;66;03m# Binary mode\u001b[39;00m\n\u001b[0;32m    798\u001b[0m         handle \u001b[38;5;241m=\u001b[39m \u001b[38;5;28mopen\u001b[39m(handle, ioargs\u001b[38;5;241m.\u001b[39mmode)\n",
      "\u001b[1;31mFileNotFoundError\u001b[0m: [Errno 2] No such file or directory: 'data/fixture_2022.csv'"
     ]
    }
   ],
   "source": [
    "df_fixture = pd.read_csv(\"../data/fixture_2022.csv\")\n",
    "print(df_fixture.shape)\n",
    "df_fixture.columns\n",
    "\n",
    "# get right fixture rounds\n",
    "df_next_games_teams = df_fixture[(df_fixture['status'] != \"CONCLUDED\") & (df_fixture['round.roundNumber'] == 11)]\n",
    "df_next_games_teams = df_next_games_teams[['home.team.name','away.team.name']]\n",
    "df_next_games_teams = df_next_games_teams.rename(columns={'home.team.name': 'match.homeTeam.name', 'away.team.name': 'match.awayTeam.name'})\n",
    "df_next_games_teams"
   ]
  },
  {
   "cell_type": "code",
   "execution_count": null,
   "id": "5ecf4bec",
   "metadata": {},
   "outputs": [],
   "source": []
  },
  {
   "cell_type": "code",
   "execution_count": null,
   "id": "339147c7",
   "metadata": {},
   "outputs": [],
   "source": [
    "df_all.shape"
   ]
  },
  {
   "cell_type": "code",
   "execution_count": null,
   "id": "1dbdd660",
   "metadata": {},
   "outputs": [],
   "source": [
    "df_all.sort_values('match.date', inplace=True)\n",
    "df_all.reset_index(inplace=True)\n",
    "df_all.drop('index', axis=1, inplace=True)"
   ]
  },
  {
   "cell_type": "code",
   "execution_count": null,
   "id": "739b6b0a",
   "metadata": {},
   "outputs": [],
   "source": [
    "df_all.tail()"
   ]
  },
  {
   "cell_type": "code",
   "execution_count": null,
   "id": "d1ddce36",
   "metadata": {},
   "outputs": [],
   "source": [
    "from pandas.plotting import scatter_matrix"
   ]
  },
  {
   "cell_type": "code",
   "execution_count": null,
   "id": "e8bf4799",
   "metadata": {},
   "outputs": [],
   "source": [
    "scatter_matrix(df_all[df_all.iloc[:,50:56].columns], diagonal='kde', figsize=(14,14));"
   ]
  },
  {
   "cell_type": "code",
   "execution_count": null,
   "id": "f4fe779b",
   "metadata": {},
   "outputs": [],
   "source": [
    "# HTGDIFF: Home Team Goal Difference\n",
    "# ATGDIFF: Away Team Goal Difference\n",
    "\n",
    "df_all['HTGDIFF'] = df_all['homeTeamScore.matchScore.goals'] - df_all['awayTeamScore.matchScore.goals']\n",
    "df_all['ATGDIFF'] = df_all['awayTeamScore.matchScore.goals'] - df_all['homeTeamScore.matchScore.goals']"
   ]
  },
  {
   "cell_type": "markdown",
   "id": "4ddb8d85",
   "metadata": {},
   "source": [
    "## Calculate AVG goal difference for home and away team rolling 4 Games"
   ]
  },
  {
   "cell_type": "code",
   "execution_count": null,
   "id": "5c911ee3",
   "metadata": {},
   "outputs": [],
   "source": [
    "def avg_goal_diff(df, avg_h_a_diff, a_h_team, a_h_goal_letter):\n",
    "    \"\"\"\n",
    "    input: \n",
    "        df = dataframe with all results\n",
    "        avg_h_a_diff = name of the new column\n",
    "        a_h_team = HomeTeam or AwayTeam\n",
    "        a_h_goal_letter = 'H' for home or 'A' for away\n",
    "    output: \n",
    "        avg_per_team = dictionary with with team as key and columns as values with new column H/ATGDIFF\n",
    "    \"\"\"\n",
    "    df[avg_h_a_diff] = 0\n",
    "    avg_per_team = {}\n",
    "    all_teams = df[a_h_team].unique()\n",
    "    for t in all_teams:\n",
    "        df_team = df[df[a_h_team]==t].fillna(0)\n",
    "        result = df_team['{}TGDIFF'.format(a_h_goal_letter)].rolling(4).mean()\n",
    "        df_team[avg_h_a_diff] = result\n",
    "        avg_per_team[t] = df_team\n",
    "    return avg_per_team"
   ]
  },
  {
   "cell_type": "code",
   "execution_count": null,
   "id": "5d647e18",
   "metadata": {},
   "outputs": [],
   "source": [
    "d_AVGFTHG = avg_goal_diff(df_all, 'AVGHTGDIFF', 'match.homeTeam.name', 'H')"
   ]
  },
  {
   "cell_type": "code",
   "execution_count": null,
   "id": "68301818",
   "metadata": {},
   "outputs": [],
   "source": [
    "def from_dict_value_to_df(d):\n",
    "    \"\"\"\n",
    "    input = dictionary \n",
    "    output = dataframe as part of all the values from the dictionary\n",
    "    \"\"\"\n",
    "    df = pd.DataFrame()\n",
    "    for v in d.values():\n",
    "        df = pd.concat([df,v])\n",
    "    return df"
   ]
  },
  {
   "cell_type": "code",
   "execution_count": null,
   "id": "16eac73f",
   "metadata": {},
   "outputs": [],
   "source": [
    "df_AVGFTHG = from_dict_value_to_df(d_AVGFTHG)\n",
    "df_AVGFTHG.sort_index(inplace=True)"
   ]
  },
  {
   "cell_type": "code",
   "execution_count": null,
   "id": "a0700974",
   "metadata": {},
   "outputs": [],
   "source": [
    "d_AVGFTAG = avg_goal_diff(df_AVGFTHG, 'AVGATGDIFF', 'match.awayTeam.name', 'A')\n",
    "df_all = from_dict_value_to_df(d_AVGFTAG)\n",
    "df_all.sort_index(inplace=True)\n",
    "df_all['AVGATGDIFF'].fillna(0, inplace=True)"
   ]
  },
  {
   "cell_type": "markdown",
   "id": "3d5506da",
   "metadata": {},
   "source": [
    "## Add per match game results from last three games"
   ]
  },
  {
   "cell_type": "code",
   "execution_count": null,
   "id": "dc175ceb",
   "metadata": {},
   "outputs": [],
   "source": [
    "df_all['goal_diff'] = df_all['homeTeamScore.matchScore.goals'] - df_all['awayTeamScore.matchScore.goals']\n",
    "\n",
    "\n",
    "for index, row in df_all[df_all['match.status']=='CONCLUDED'].iterrows():\n",
    "    if df_all['goal_diff'][index] > 0:\n",
    "        df_all.at[index,'result'] = 3   # 3 is a win\n",
    "    elif df_all['goal_diff'][index] == 0:\n",
    "        df_all.at[index,'result'] = 2  # 2 is a draw\n",
    "    else:\n",
    "        df_all.at[index,'result'] = 1  # 1 is a loss "
   ]
  },
  {
   "cell_type": "code",
   "execution_count": null,
   "id": "c5c06a06",
   "metadata": {},
   "outputs": [],
   "source": [
    "df_all.head()"
   ]
  },
  {
   "cell_type": "code",
   "execution_count": null,
   "id": "b6cf4fc1",
   "metadata": {},
   "outputs": [],
   "source": [
    "def previous_data(df, h_or_a_team, column, letter, past_n):\n",
    "    \"\"\"\n",
    "    input: \n",
    "        df = dataframe with all results\n",
    "        a_h_team = HomeTeam or AwayTeam\n",
    "        column = column selected to get previous data from\n",
    "    output:\n",
    "        team_with_past_dict = dictionary with team as a key and columns as values with new \n",
    "                              columns with past value\n",
    "    \"\"\"\n",
    "    d = dict()\n",
    "    team_with_past_dict = dict()\n",
    "    all_teams = df[h_or_a_team].unique()\n",
    "    for team in all_teams:\n",
    "        n_games = len(df[df[h_or_a_team]==team])\n",
    "        team_with_past_dict[team] = df[df[h_or_a_team]==team]\n",
    "        for i in range(1, past_n):\n",
    "            d[i] = team_with_past_dict[team].assign(\n",
    "                result=team_with_past_dict[team].groupby(h_or_a_team)[column].shift(i)\n",
    "            ).fillna({'{}_X'.format(column): 0})\n",
    "            team_with_past_dict[team]['{}_{}_{}'.format(letter, column, i)] = d[i].result\n",
    "    return team_with_past_dict"
   ]
  },
  {
   "cell_type": "code",
   "execution_count": null,
   "id": "e6ad33f5",
   "metadata": {},
   "outputs": [],
   "source": [
    "def previous_data_call(df, side, column, letter, iterations):\n",
    "    d = previous_data(df, side, column, letter, iterations)\n",
    "    df_result= from_dict_value_to_df(d)\n",
    "    df_result.sort_index(inplace=True)\n",
    "    return df_result"
   ]
  },
  {
   "cell_type": "code",
   "execution_count": null,
   "id": "02ba4a88",
   "metadata": {},
   "outputs": [],
   "source": [
    "df_last_home_results = previous_data_call(df_all, 'match.homeTeam.name', 'result', 'H', 3)\n",
    "df_last_away_results = previous_data_call(df_last_home_results, 'match.awayTeam.name', 'result', 'A', 3)"
   ]
  },
  {
   "cell_type": "code",
   "execution_count": null,
   "id": "c97dc3b7",
   "metadata": {},
   "outputs": [],
   "source": [
    "df_last_last_HTGDIFF_results = previous_data_call(df_last_away_results, 'match.homeTeam.name', 'HTGDIFF', 'H', 3)\n",
    "df_last_last_ATGDIFF_results = previous_data_call(df_last_last_HTGDIFF_results, 'match.awayTeam.name', 'ATGDIFF', 'A', 3)"
   ]
  },
  {
   "cell_type": "code",
   "execution_count": null,
   "id": "457dae9b",
   "metadata": {},
   "outputs": [],
   "source": [
    "df_last_AVGFTHG_results = previous_data_call(df_last_last_ATGDIFF_results, 'match.homeTeam.name', 'AVGHTGDIFF', 'H', 2)\n",
    "df_last_AVGFTAG_results = previous_data_call(df_last_AVGFTHG_results, 'match.awayTeam.name', 'AVGATGDIFF', 'A', 2)"
   ]
  },
  {
   "cell_type": "code",
   "execution_count": null,
   "id": "5746c69c",
   "metadata": {},
   "outputs": [],
   "source": [
    "df_all = df_last_AVGFTAG_results.copy()"
   ]
  },
  {
   "cell_type": "code",
   "execution_count": null,
   "id": "d8b209e6",
   "metadata": {},
   "outputs": [],
   "source": [
    "df_all.shape"
   ]
  },
  {
   "cell_type": "code",
   "execution_count": null,
   "id": "f9021363",
   "metadata": {},
   "outputs": [],
   "source": [
    "df_all"
   ]
  },
  {
   "cell_type": "code",
   "execution_count": null,
   "id": "8836d379",
   "metadata": {},
   "outputs": [],
   "source": [
    "df_matches_numeric = df_all._get_numeric_data()\n"
   ]
  },
  {
   "cell_type": "code",
   "execution_count": null,
   "id": "f508111e",
   "metadata": {},
   "outputs": [],
   "source": [
    "df_matches_numeric.columns"
   ]
  },
  {
   "cell_type": "code",
   "execution_count": null,
   "id": "65101367",
   "metadata": {},
   "outputs": [],
   "source": [
    "#df_matches_numeric.drop(['match.homeTeam.timeZone', 'match.awayTeam.timeZone', 'goal_diff', 'result', 'homeTeamScore.matchScore.goals', 'awayTeamScore.matchScore.goals'], axis=1, inplace=True)\n",
    "\n",
    "\n",
    "df_matches_numeric = df_matches_numeric[['HTGDIFF','ATGDIFF','awayTeamScore.minutesInFront','homeTeamScore.minutesInFront','homeTeamScoreChart.goals','homeTeamScore.matchScore.totalScore','awayTeamScore.matchScore.totalScore','AVGHTGDIFF','round.year','awayTeamScoreChart.goals']]\n",
    "\n",
    "\n",
    "\n",
    "df_matches_numeric.isnull().sum(axis = 0)"
   ]
  },
  {
   "cell_type": "code",
   "execution_count": null,
   "id": "9c898013",
   "metadata": {},
   "outputs": [],
   "source": [
    "df_norm = (df_matches_numeric - df_matches_numeric.min()) / (df_matches_numeric.max() - df_matches_numeric.min())"
   ]
  },
  {
   "cell_type": "code",
   "execution_count": null,
   "id": "9c7e22f3",
   "metadata": {},
   "outputs": [],
   "source": [
    "df_norm.columns"
   ]
  },
  {
   "cell_type": "code",
   "execution_count": null,
   "id": "ef76b74e",
   "metadata": {},
   "outputs": [],
   "source": [
    "predictable_columns = [\n",
    "       'HTGDIFF', 'ATGDIFF', 'awayTeamScore.minutesInFront',\n",
    "       'homeTeamScore.minutesInFront', 'homeTeamScoreChart.goals',\n",
    "       'homeTeamScore.matchScore.totalScore',\n",
    "       'awayTeamScore.matchScore.totalScore', 'AVGHTGDIFF', 'round.year',\n",
    "       'awayTeamScoreChart.goals'\n",
    "]"
   ]
  },
  {
   "cell_type": "code",
   "execution_count": null,
   "id": "7ce275d7",
   "metadata": {},
   "outputs": [],
   "source": [
    "df_X = df_norm[predictable_columns]"
   ]
  },
  {
   "cell_type": "code",
   "execution_count": null,
   "id": "a731c0b3",
   "metadata": {},
   "outputs": [],
   "source": [
    "df_X.fillna(0,inplace=True)"
   ]
  },
  {
   "cell_type": "code",
   "execution_count": null,
   "id": "675a6e3f",
   "metadata": {},
   "outputs": [],
   "source": [
    "# Normal Rounds have 9 games\n",
    "# Round 24 has 4 games\n",
    "# Round 25 and 26 have 2 games\n",
    "# Round 27 has 1 game\n",
    "\n",
    "# + 9 per match day for normal rounds\n",
    "\n",
    "#int_for_test = len(df_all)\n",
    "#int_for_prediction = int_for_test - 9\n",
    "\n",
    "\n"
   ]
  },
  {
   "cell_type": "code",
   "execution_count": null,
   "id": "ab5e1b0d",
   "metadata": {},
   "outputs": [],
   "source": [
    "df_all.shape"
   ]
  },
  {
   "cell_type": "code",
   "execution_count": null,
   "id": "8381b85d",
   "metadata": {},
   "outputs": [],
   "source": [
    "#X = df_X.iloc[:int_for_prediction,:]\n",
    "#print(X.shape)\n",
    "#Y = df_all.iloc[:int_for_prediction,:]['result']\n",
    "#print(Y.shape)\n",
    "#Z = df_X.iloc[int_for_prediction:,:]\n",
    "#print(Z.shape)"
   ]
  },
  {
   "cell_type": "code",
   "execution_count": null,
   "id": "2d61f58a",
   "metadata": {},
   "outputs": [],
   "source": [
    "X = df_X\n",
    "print(X.shape)\n",
    "Y = df_all['result']\n",
    "print(Y.shape)\n",
    "#Z = df_X.iloc[int_for_prediction:,:]\n",
    "#print(Z.shape)"
   ]
  },
  {
   "cell_type": "code",
   "execution_count": null,
   "id": "b0154091",
   "metadata": {},
   "outputs": [],
   "source": [
    "#X = df_X.iloc[:int_for_prediction,:]\n",
    "#print(X.shape)\n",
    "#Y = df_all.iloc[:int_for_prediction,:]['result']\n",
    "#print(Y.shape)\n",
    "#Z = df_X.iloc[int_for_prediction:,:]\n",
    "#print(Z.shape)"
   ]
  },
  {
   "cell_type": "code",
   "execution_count": null,
   "id": "17f586dd",
   "metadata": {},
   "outputs": [],
   "source": []
  },
  {
   "cell_type": "code",
   "execution_count": null,
   "id": "bdf96b99",
   "metadata": {},
   "outputs": [],
   "source": [
    "#df_next_games_teams = df_all.iloc[int_for_prediction:,:][['match.homeTeam.name', 'match.awayTeam.name']]\n",
    "#print(df_next_games_teams.shape)"
   ]
  },
  {
   "cell_type": "code",
   "execution_count": null,
   "id": "8542f260",
   "metadata": {},
   "outputs": [],
   "source": [
    "#df_next_games_teams"
   ]
  },
  {
   "cell_type": "code",
   "execution_count": null,
   "id": "bf5bea70",
   "metadata": {},
   "outputs": [],
   "source": []
  },
  {
   "cell_type": "code",
   "execution_count": null,
   "id": "4abef0a0",
   "metadata": {},
   "outputs": [],
   "source": []
  },
  {
   "cell_type": "code",
   "execution_count": null,
   "id": "93fc5921",
   "metadata": {},
   "outputs": [],
   "source": [
    "#df_all[['match.name','result']].tail(9)"
   ]
  },
  {
   "cell_type": "code",
   "execution_count": null,
   "id": "23e338a9",
   "metadata": {},
   "outputs": [],
   "source": [
    "df_next_games_teams"
   ]
  },
  {
   "cell_type": "code",
   "execution_count": null,
   "id": "b407c112",
   "metadata": {},
   "outputs": [],
   "source": []
  },
  {
   "cell_type": "code",
   "execution_count": null,
   "id": "79a0b69f",
   "metadata": {},
   "outputs": [],
   "source": [
    "# how to make Z for test data\n",
    "\n",
    "# loop through each new fixture team and get average of historical data? try this\n",
    "\n",
    "import math\n",
    "\n",
    "Z = pd.DataFrame()\n",
    "\n",
    "\n",
    "\n",
    "\n",
    "for index, row in df_next_games_teams.iterrows():\n",
    "    home = row['match.homeTeam.name']\n",
    "    away = row['match.awayTeam.name']\n",
    "    tmp = df_all[(df_all['match.homeTeam.name']==home)&(df_all['match.awayTeam.name']==away)]\n",
    "    tmp = tmp[predictable_columns].mean()\n",
    "    #print(\"-----------\")\n",
    "    #print(tmp)\n",
    "    #print(\"-----------\")\n",
    "    \n",
    "    if math.isnan(tmp[0]):\n",
    "        tmp[0] = 0\n",
    "        tmp[1] = 0\n",
    "        tmp[2] = 0\n",
    "        tmp[3] = 0\n",
    "        tmp[4] = 0\n",
    "        tmp[5] = 0\n",
    "        tmp[6] = 0\n",
    "        tmp[7] = 0\n",
    "        tmp[8] = 0\n",
    "        tmp[9] = 0\n",
    "        \n",
    "    \n",
    "    Z = Z.append({'HTGDIFF': tmp[0], 'ATGDIFF': tmp[1], 'awayTeamScore.minutesInFront': tmp[2], 'homeTeamScore.minutesInFront': tmp[3], 'homeTeamScoreChart.goals': tmp[4], 'homeTeamScore.matchScore.totalScore': tmp[5], 'awayTeamScore.matchScore.totalScore': tmp[6], 'AVGHTGDIF': tmp[7], 'round.year': 2022, 'awayTeamScoreChart.goals': tmp[9]}, ignore_index=True)\n",
    "\n",
    "    \n",
    "Z\n",
    "\n",
    "\n"
   ]
  },
  {
   "cell_type": "code",
   "execution_count": null,
   "id": "b1ae24fc",
   "metadata": {},
   "outputs": [],
   "source": []
  },
  {
   "cell_type": "code",
   "execution_count": null,
   "id": "cc9e9133",
   "metadata": {},
   "outputs": [],
   "source": []
  },
  {
   "cell_type": "code",
   "execution_count": null,
   "id": "30dc413f",
   "metadata": {},
   "outputs": [],
   "source": [
    "X.to_pickle(\"../pickle_files/X.pkl\")\n",
    "Y.to_pickle(\"../pickle_files/Y.pkl\")\n",
    "Z.to_pickle(\"../pickle_files/Z.pkl\")\n",
    "df_next_games_teams.to_pickle(\"../pickle_files/next_games.pkl\")"
   ]
  },
  {
   "cell_type": "code",
   "execution_count": null,
   "id": "7ee7bbdb",
   "metadata": {},
   "outputs": [],
   "source": []
  },
  {
   "cell_type": "code",
   "execution_count": null,
   "id": "46fddf84",
   "metadata": {},
   "outputs": [],
   "source": []
  },
  {
   "cell_type": "code",
   "execution_count": null,
   "id": "a0f8a70d",
   "metadata": {},
   "outputs": [],
   "source": []
  },
  {
   "cell_type": "code",
   "execution_count": null,
   "id": "bcc7161a",
   "metadata": {},
   "outputs": [],
   "source": []
  }
 ],
 "metadata": {
  "kernelspec": {
   "display_name": "Python 3 (ipykernel)",
   "language": "python",
   "name": "python3"
  },
  "language_info": {
   "codemirror_mode": {
    "name": "ipython",
    "version": 3
   },
   "file_extension": ".py",
   "mimetype": "text/x-python",
   "name": "python",
   "nbconvert_exporter": "python",
   "pygments_lexer": "ipython3",
   "version": "3.8.12"
  }
 },
 "nbformat": 4,
 "nbformat_minor": 5
}
