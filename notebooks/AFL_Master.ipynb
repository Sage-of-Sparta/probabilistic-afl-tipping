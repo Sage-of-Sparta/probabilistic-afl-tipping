{
 "cells": [
  {
   "cell_type": "code",
   "execution_count": 1,
   "id": "8a96f668",
   "metadata": {},
   "outputs": [],
   "source": [
    "import pandas as pd\n",
    "import numpy as np"
   ]
  },
  {
   "cell_type": "code",
   "execution_count": 2,
   "id": "b32bfdd6",
   "metadata": {},
   "outputs": [],
   "source": [
    "from afl_model_build import predict_round"
   ]
  },
  {
   "cell_type": "code",
   "execution_count": null,
   "id": "624789c0",
   "metadata": {},
   "outputs": [],
   "source": []
  },
  {
   "cell_type": "code",
   "execution_count": null,
   "id": "6cd68b28",
   "metadata": {},
   "outputs": [],
   "source": []
  },
  {
   "cell_type": "code",
   "execution_count": null,
   "id": "8c5a4504",
   "metadata": {},
   "outputs": [],
   "source": []
  },
  {
   "cell_type": "code",
   "execution_count": 3,
   "id": "81dea4ec",
   "metadata": {},
   "outputs": [
    {
     "name": "stdout",
     "output_type": "stream",
     "text": [
      "Fitting 5 folds for each of 18 candidates, totalling 90 fits\n",
      "Fitting 5 folds for each of 18 candidates, totalling 90 fits\n",
      "Fitting 5 folds for each of 18 candidates, totalling 90 fits\n",
      "Fitting 5 folds for each of 18 candidates, totalling 90 fits\n",
      "Fitting 5 folds for each of 18 candidates, totalling 90 fits\n",
      "Fitting 5 folds for each of 18 candidates, totalling 90 fits\n",
      "Fitting 5 folds for each of 18 candidates, totalling 90 fits\n",
      "Fitting 5 folds for each of 18 candidates, totalling 90 fits\n"
     ]
    }
   ],
   "source": [
    "rounds = [3,4,5,6,7,8,9,10]\n",
    "\n",
    "model_perf = pd.DataFrame()\n",
    "game_list = pd.DataFrame()\n",
    "\n",
    "for i in range(0,len(rounds)):\n",
    "    \n",
    "    accuracy, df_next_games_teams, features, afl_df = predict_round(rounds[i])\n",
    "    \n",
    "    score_1 = df_next_games_teams['score_1'].sum()\n",
    "    score_2 = df_next_games_teams['score_2'].sum()\n",
    "    score_3 = df_next_games_teams['score_3'].sum()\n",
    "    \n",
    "    model_perf = model_perf.append({'round':rounds[i],'accuracy':accuracy,'score_1':score_1,'score_2':score_2 ,'score_3':score_3}, ignore_index=True)\n",
    "    \n",
    "    if len(game_list) == 0:\n",
    "        game_list = df_next_games_teams\n",
    "    else:\n",
    "        game_list = pd.concat([game_list, df_next_games_teams], ignore_index=True)\n",
    "    "
   ]
  },
  {
   "cell_type": "code",
   "execution_count": 4,
   "id": "afe6d4fe",
   "metadata": {},
   "outputs": [
    {
     "data": {
      "text/html": [
       "<div>\n",
       "<style scoped>\n",
       "    .dataframe tbody tr th:only-of-type {\n",
       "        vertical-align: middle;\n",
       "    }\n",
       "\n",
       "    .dataframe tbody tr th {\n",
       "        vertical-align: top;\n",
       "    }\n",
       "\n",
       "    .dataframe thead th {\n",
       "        text-align: right;\n",
       "    }\n",
       "</style>\n",
       "<table border=\"1\" class=\"dataframe\">\n",
       "  <thead>\n",
       "    <tr style=\"text-align: right;\">\n",
       "      <th></th>\n",
       "      <th>round</th>\n",
       "      <th>accuracy</th>\n",
       "      <th>score_1</th>\n",
       "      <th>score_2</th>\n",
       "      <th>score_3</th>\n",
       "    </tr>\n",
       "  </thead>\n",
       "  <tbody>\n",
       "    <tr>\n",
       "      <th>0</th>\n",
       "      <td>3.0</td>\n",
       "      <td>61.188811</td>\n",
       "      <td>1.817534</td>\n",
       "      <td>1.817534</td>\n",
       "      <td>1.620435</td>\n",
       "    </tr>\n",
       "    <tr>\n",
       "      <th>1</th>\n",
       "      <td>4.0</td>\n",
       "      <td>62.847222</td>\n",
       "      <td>0.730071</td>\n",
       "      <td>-0.357392</td>\n",
       "      <td>-0.165735</td>\n",
       "    </tr>\n",
       "    <tr>\n",
       "      <th>2</th>\n",
       "      <td>5.0</td>\n",
       "      <td>61.168385</td>\n",
       "      <td>1.024065</td>\n",
       "      <td>1.679781</td>\n",
       "      <td>1.512153</td>\n",
       "    </tr>\n",
       "    <tr>\n",
       "      <th>3</th>\n",
       "      <td>6.0</td>\n",
       "      <td>60.204082</td>\n",
       "      <td>-3.203616</td>\n",
       "      <td>0.483072</td>\n",
       "      <td>0.545446</td>\n",
       "    </tr>\n",
       "    <tr>\n",
       "      <th>4</th>\n",
       "      <td>7.0</td>\n",
       "      <td>55.892256</td>\n",
       "      <td>-1.299177</td>\n",
       "      <td>-0.211714</td>\n",
       "      <td>-0.149340</td>\n",
       "    </tr>\n",
       "    <tr>\n",
       "      <th>5</th>\n",
       "      <td>8.0</td>\n",
       "      <td>61.538462</td>\n",
       "      <td>2.136404</td>\n",
       "      <td>2.089939</td>\n",
       "      <td>1.893747</td>\n",
       "    </tr>\n",
       "    <tr>\n",
       "      <th>6</th>\n",
       "      <td>9.0</td>\n",
       "      <td>59.271523</td>\n",
       "      <td>-2.532317</td>\n",
       "      <td>-1.444854</td>\n",
       "      <td>-1.058819</td>\n",
       "    </tr>\n",
       "    <tr>\n",
       "      <th>7</th>\n",
       "      <td>10.0</td>\n",
       "      <td>62.950820</td>\n",
       "      <td>0.772168</td>\n",
       "      <td>2.498905</td>\n",
       "      <td>2.237618</td>\n",
       "    </tr>\n",
       "  </tbody>\n",
       "</table>\n",
       "</div>"
      ],
      "text/plain": [
       "   round   accuracy   score_1   score_2   score_3\n",
       "0    3.0  61.188811  1.817534  1.817534  1.620435\n",
       "1    4.0  62.847222  0.730071 -0.357392 -0.165735\n",
       "2    5.0  61.168385  1.024065  1.679781  1.512153\n",
       "3    6.0  60.204082 -3.203616  0.483072  0.545446\n",
       "4    7.0  55.892256 -1.299177 -0.211714 -0.149340\n",
       "5    8.0  61.538462  2.136404  2.089939  1.893747\n",
       "6    9.0  59.271523 -2.532317 -1.444854 -1.058819\n",
       "7   10.0  62.950820  0.772168  2.498905  2.237618"
      ]
     },
     "execution_count": 4,
     "metadata": {},
     "output_type": "execute_result"
    }
   ],
   "source": [
    "model_perf"
   ]
  },
  {
   "cell_type": "code",
   "execution_count": 5,
   "id": "fd35dd9a",
   "metadata": {},
   "outputs": [
    {
     "name": "stdout",
     "output_type": "stream",
     "text": [
      "-0.5548669991982402\n",
      "6.555271737056029\n",
      "6.435504969628552\n"
     ]
    }
   ],
   "source": [
    "print(model_perf['score_1'].sum())\n",
    "print(model_perf['score_2'].sum())\n",
    "print(model_perf['score_3'].sum())"
   ]
  },
  {
   "cell_type": "code",
   "execution_count": 11,
   "id": "5b79f39f",
   "metadata": {},
   "outputs": [
    {
     "data": {
      "text/html": [
       "<div>\n",
       "<style scoped>\n",
       "    .dataframe tbody tr th:only-of-type {\n",
       "        vertical-align: middle;\n",
       "    }\n",
       "\n",
       "    .dataframe tbody tr th {\n",
       "        vertical-align: top;\n",
       "    }\n",
       "\n",
       "    .dataframe thead th {\n",
       "        text-align: right;\n",
       "    }\n",
       "</style>\n",
       "<table border=\"1\" class=\"dataframe\">\n",
       "  <thead>\n",
       "    <tr style=\"text-align: right;\">\n",
       "      <th></th>\n",
       "      <th>match.homeTeam.name</th>\n",
       "      <th>match.awayTeam.name</th>\n",
       "      <th>venue.name</th>\n",
       "      <th>round.year</th>\n",
       "      <th>round.roundNumber_x</th>\n",
       "      <th>match.matchId</th>\n",
       "      <th>train_data</th>\n",
       "      <th>pred_home_result</th>\n",
       "      <th>pred_home_prob</th>\n",
       "      <th>enter_tips</th>\n",
       "      <th>round.roundNumber_y</th>\n",
       "      <th>homeTeamScore.matchScore.totalScore</th>\n",
       "      <th>awayTeamScore.matchScore.totalScore</th>\n",
       "      <th>result</th>\n",
       "      <th>score_1</th>\n",
       "      <th>score_2</th>\n",
       "      <th>score_3</th>\n",
       "    </tr>\n",
       "  </thead>\n",
       "  <tbody>\n",
       "  </tbody>\n",
       "</table>\n",
       "</div>"
      ],
      "text/plain": [
       "Empty DataFrame\n",
       "Columns: [match.homeTeam.name, match.awayTeam.name, venue.name, round.year, round.roundNumber_x, match.matchId, train_data, pred_home_result, pred_home_prob, enter_tips, round.roundNumber_y, homeTeamScore.matchScore.totalScore, awayTeamScore.matchScore.totalScore, result, score_1, score_2, score_3]\n",
       "Index: []"
      ]
     },
     "execution_count": 11,
     "metadata": {},
     "output_type": "execute_result"
    }
   ],
   "source": [
    "game_list[game_list['round.roundNumber_x']==11]"
   ]
  },
  {
   "cell_type": "code",
   "execution_count": 7,
   "id": "d7e48072",
   "metadata": {},
   "outputs": [],
   "source": [
    "game_list.to_csv('C:/Users/Damian Joseph/OneDrive/Documents/Code/probabilistic-afl-tipping/gamestats.csv')"
   ]
  },
  {
   "cell_type": "code",
   "execution_count": null,
   "id": "f5505f55",
   "metadata": {},
   "outputs": [],
   "source": []
  },
  {
   "cell_type": "code",
   "execution_count": null,
   "id": "1f88a8a2",
   "metadata": {},
   "outputs": [],
   "source": []
  },
  {
   "cell_type": "code",
   "execution_count": 12,
   "id": "5354912a",
   "metadata": {},
   "outputs": [
    {
     "name": "stdout",
     "output_type": "stream",
     "text": [
      "Fitting 5 folds for each of 18 candidates, totalling 90 fits\n"
     ]
    }
   ],
   "source": [
    "accuracy, df_next_games_teams, features, afl_df = predict_round(11)"
   ]
  },
  {
   "cell_type": "code",
   "execution_count": 13,
   "id": "4c6d380e",
   "metadata": {},
   "outputs": [
    {
     "data": {
      "text/plain": [
       "57.32899022801303"
      ]
     },
     "execution_count": 13,
     "metadata": {},
     "output_type": "execute_result"
    }
   ],
   "source": [
    "accuracy"
   ]
  },
  {
   "cell_type": "code",
   "execution_count": 14,
   "id": "8f107734",
   "metadata": {},
   "outputs": [
    {
     "data": {
      "text/html": [
       "<div>\n",
       "<style scoped>\n",
       "    .dataframe tbody tr th:only-of-type {\n",
       "        vertical-align: middle;\n",
       "    }\n",
       "\n",
       "    .dataframe tbody tr th {\n",
       "        vertical-align: top;\n",
       "    }\n",
       "\n",
       "    .dataframe thead th {\n",
       "        text-align: right;\n",
       "    }\n",
       "</style>\n",
       "<table border=\"1\" class=\"dataframe\">\n",
       "  <thead>\n",
       "    <tr style=\"text-align: right;\">\n",
       "      <th></th>\n",
       "      <th>match.homeTeam.name</th>\n",
       "      <th>match.awayTeam.name</th>\n",
       "      <th>venue.name</th>\n",
       "      <th>round.year</th>\n",
       "      <th>round.roundNumber</th>\n",
       "      <th>match.matchId</th>\n",
       "      <th>train_data</th>\n",
       "      <th>pred_home_result</th>\n",
       "      <th>pred_home_prob</th>\n",
       "      <th>enter_tips</th>\n",
       "    </tr>\n",
       "  </thead>\n",
       "  <tbody>\n",
       "    <tr>\n",
       "      <th>90</th>\n",
       "      <td>Sydney Swans</td>\n",
       "      <td>Richmond</td>\n",
       "      <td>SCG</td>\n",
       "      <td>2022</td>\n",
       "      <td>11</td>\n",
       "      <td>0</td>\n",
       "      <td>0</td>\n",
       "      <td>1</td>\n",
       "      <td>0.588</td>\n",
       "      <td>pick Sydney Swans with p=0.588</td>\n",
       "    </tr>\n",
       "    <tr>\n",
       "      <th>91</th>\n",
       "      <td>Brisbane Lions</td>\n",
       "      <td>GWS Giants</td>\n",
       "      <td>Gabba</td>\n",
       "      <td>2022</td>\n",
       "      <td>11</td>\n",
       "      <td>1</td>\n",
       "      <td>0</td>\n",
       "      <td>1</td>\n",
       "      <td>1.000</td>\n",
       "      <td>pick Brisbane Lions with p=1.0</td>\n",
       "    </tr>\n",
       "    <tr>\n",
       "      <th>92</th>\n",
       "      <td>Geelong Cats</td>\n",
       "      <td>Adelaide Crows</td>\n",
       "      <td>GMHBA Stadium</td>\n",
       "      <td>2022</td>\n",
       "      <td>11</td>\n",
       "      <td>2</td>\n",
       "      <td>0</td>\n",
       "      <td>1</td>\n",
       "      <td>0.940</td>\n",
       "      <td>pick Geelong Cats with p=0.94</td>\n",
       "    </tr>\n",
       "    <tr>\n",
       "      <th>93</th>\n",
       "      <td>Melbourne</td>\n",
       "      <td>Fremantle</td>\n",
       "      <td>MCG</td>\n",
       "      <td>2022</td>\n",
       "      <td>11</td>\n",
       "      <td>3</td>\n",
       "      <td>0</td>\n",
       "      <td>1</td>\n",
       "      <td>1.000</td>\n",
       "      <td>pick Melbourne with p=1.0</td>\n",
       "    </tr>\n",
       "    <tr>\n",
       "      <th>94</th>\n",
       "      <td>West Coast Eagles</td>\n",
       "      <td>Western Bulldogs</td>\n",
       "      <td>Optus Stadium</td>\n",
       "      <td>2022</td>\n",
       "      <td>11</td>\n",
       "      <td>4</td>\n",
       "      <td>0</td>\n",
       "      <td>0</td>\n",
       "      <td>0.023</td>\n",
       "      <td>pick Western Bulldogs with p=0.977</td>\n",
       "    </tr>\n",
       "    <tr>\n",
       "      <th>95</th>\n",
       "      <td>Gold Coast Suns</td>\n",
       "      <td>Hawthorn</td>\n",
       "      <td>TIO Stadium</td>\n",
       "      <td>2022</td>\n",
       "      <td>11</td>\n",
       "      <td>5</td>\n",
       "      <td>0</td>\n",
       "      <td>0</td>\n",
       "      <td>0.178</td>\n",
       "      <td>pick Hawthorn with p=0.8220000000000001</td>\n",
       "    </tr>\n",
       "    <tr>\n",
       "      <th>96</th>\n",
       "      <td>St Kilda</td>\n",
       "      <td>North Melbourne</td>\n",
       "      <td>Marvel Stadium</td>\n",
       "      <td>2022</td>\n",
       "      <td>11</td>\n",
       "      <td>6</td>\n",
       "      <td>0</td>\n",
       "      <td>1</td>\n",
       "      <td>1.000</td>\n",
       "      <td>pick St Kilda with p=1.0</td>\n",
       "    </tr>\n",
       "    <tr>\n",
       "      <th>97</th>\n",
       "      <td>Collingwood</td>\n",
       "      <td>Carlton</td>\n",
       "      <td>MCG</td>\n",
       "      <td>2022</td>\n",
       "      <td>11</td>\n",
       "      <td>7</td>\n",
       "      <td>0</td>\n",
       "      <td>1</td>\n",
       "      <td>1.000</td>\n",
       "      <td>pick Collingwood with p=1.0</td>\n",
       "    </tr>\n",
       "    <tr>\n",
       "      <th>98</th>\n",
       "      <td>Port Adelaide</td>\n",
       "      <td>Essendon</td>\n",
       "      <td>Adelaide Oval</td>\n",
       "      <td>2022</td>\n",
       "      <td>11</td>\n",
       "      <td>8</td>\n",
       "      <td>0</td>\n",
       "      <td>1</td>\n",
       "      <td>1.000</td>\n",
       "      <td>pick Port Adelaide with p=1.0</td>\n",
       "    </tr>\n",
       "  </tbody>\n",
       "</table>\n",
       "</div>"
      ],
      "text/plain": [
       "   match.homeTeam.name match.awayTeam.name      venue.name  round.year  \\\n",
       "90        Sydney Swans            Richmond             SCG        2022   \n",
       "91      Brisbane Lions          GWS Giants           Gabba        2022   \n",
       "92        Geelong Cats      Adelaide Crows   GMHBA Stadium        2022   \n",
       "93           Melbourne           Fremantle             MCG        2022   \n",
       "94   West Coast Eagles    Western Bulldogs   Optus Stadium        2022   \n",
       "95     Gold Coast Suns            Hawthorn     TIO Stadium        2022   \n",
       "96            St Kilda     North Melbourne  Marvel Stadium        2022   \n",
       "97         Collingwood             Carlton             MCG        2022   \n",
       "98       Port Adelaide            Essendon   Adelaide Oval        2022   \n",
       "\n",
       "    round.roundNumber  match.matchId  train_data  pred_home_result  \\\n",
       "90                 11              0           0                 1   \n",
       "91                 11              1           0                 1   \n",
       "92                 11              2           0                 1   \n",
       "93                 11              3           0                 1   \n",
       "94                 11              4           0                 0   \n",
       "95                 11              5           0                 0   \n",
       "96                 11              6           0                 1   \n",
       "97                 11              7           0                 1   \n",
       "98                 11              8           0                 1   \n",
       "\n",
       "    pred_home_prob                               enter_tips  \n",
       "90           0.588           pick Sydney Swans with p=0.588  \n",
       "91           1.000           pick Brisbane Lions with p=1.0  \n",
       "92           0.940            pick Geelong Cats with p=0.94  \n",
       "93           1.000                pick Melbourne with p=1.0  \n",
       "94           0.023       pick Western Bulldogs with p=0.977  \n",
       "95           0.178  pick Hawthorn with p=0.8220000000000001  \n",
       "96           1.000                 pick St Kilda with p=1.0  \n",
       "97           1.000              pick Collingwood with p=1.0  \n",
       "98           1.000            pick Port Adelaide with p=1.0  "
      ]
     },
     "execution_count": 14,
     "metadata": {},
     "output_type": "execute_result"
    }
   ],
   "source": [
    "df_next_games_teams"
   ]
  },
  {
   "cell_type": "code",
   "execution_count": null,
   "id": "55614b80",
   "metadata": {},
   "outputs": [],
   "source": []
  }
 ],
 "metadata": {
  "kernelspec": {
   "display_name": "Python 3 (ipykernel)",
   "language": "python",
   "name": "python3"
  },
  "language_info": {
   "codemirror_mode": {
    "name": "ipython",
    "version": 3
   },
   "file_extension": ".py",
   "mimetype": "text/x-python",
   "name": "python",
   "nbconvert_exporter": "python",
   "pygments_lexer": "ipython3",
   "version": "3.8.12"
  }
 },
 "nbformat": 4,
 "nbformat_minor": 5
}
