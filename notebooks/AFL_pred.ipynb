{
 "cells": [
  {
   "cell_type": "code",
   "execution_count": 307,
   "id": "cd999b9f",
   "metadata": {},
   "outputs": [],
   "source": [
    "import pandas as pd\n",
    "import seaborn as sns\n",
    "import numpy as np\n",
    "import matplotlib.pyplot as plt\n",
    "import warnings\n",
    "warnings.filterwarnings('ignore')"
   ]
  },
  {
   "cell_type": "code",
   "execution_count": 308,
   "id": "2cad7f4d",
   "metadata": {},
   "outputs": [],
   "source": [
    "from sklearn import svm, tree, linear_model, neighbors, naive_bayes, ensemble, discriminant_analysis, gaussian_process\n",
    "from xgboost import XGBClassifier\n",
    "from sklearn.model_selection import StratifiedKFold, cross_val_score, GridSearchCV, train_test_split\n",
    "from sklearn.linear_model import LogisticRegressionCV\n",
    "from sklearn.feature_selection import RFECV\n",
    "import seaborn as sns\n",
    "from sklearn.preprocessing import OneHotEncoder, LabelEncoder, StandardScaler\n",
    "from sklearn import feature_selection\n",
    "from sklearn import metrics\n",
    "from sklearn.linear_model import LogisticRegression, RidgeClassifier\n",
    "from sklearn.ensemble import RandomForestClassifier\n",
    "from sklearn.discriminant_analysis import LinearDiscriminantAnalysis\n",
    "from sklearn.naive_bayes import GaussianNB\n",
    "from sklearn.model_selection import train_test_split"
   ]
  },
  {
   "cell_type": "code",
   "execution_count": 309,
   "id": "4465b1c7",
   "metadata": {},
   "outputs": [],
   "source": [
    "def load_afl_data():\n",
    "    df_2017 = pd.read_csv(\"../data/afl_results_2017.csv\")\n",
    "    #print(df_2017.shape)\n",
    "    df_2018 = pd.read_csv(\"../data/afl_results_2018.csv\")\n",
    "    #print(df_2018.shape)\n",
    "    df_2019 = pd.read_csv(\"../data/afl_results_2019.csv\")\n",
    "    #print(df_2019.shape)\n",
    "    df_2020 = pd.read_csv(\"../data/afl_results_2020.csv\")\n",
    "    #print(df_2020.shape)\n",
    "    df_2021 = pd.read_csv(\"../data/afl_results_2021.csv\")\n",
    "    #print(df_2021.shape)\n",
    "    df_2022 = pd.read_csv(\"../data/afl_results_2022.csv\")\n",
    "    #print(df_2022.shape)\n",
    "    df_all = pd.concat([df_2017, df_2018, df_2019, df_2020, df_2021,df_2022], axis=0)\n",
    "    df_all['Date'] = pd.to_datetime(df_all['match.date']).dt.strftime(\"%Y-%m-%d\")\n",
    "    df_players_2017 = pd.read_csv(\"../data/afl_players_stats_2017.csv\")\n",
    "    #print(df_players_2017.shape)\n",
    "    df_players_2018 = pd.read_csv(\"../data/afl_players_stats_2018.csv\")\n",
    "    #print(df_players_2018.shape)\n",
    "    df_players_2019 = pd.read_csv(\"../data/afl_players_stats_2019.csv\")\n",
    "    #print(df_players_2019.shape)\n",
    "    df_players_2020 = pd.read_csv(\"../data/afl_players_stats_2020.csv\")\n",
    "    #print(df_players_2020.shape)\n",
    "    df_players_2021 = pd.read_csv(\"../data/afl_players_stats_2021.csv\")\n",
    "    #print(df_players_2021.shape)\n",
    "    df_players_2022 = pd.read_csv(\"../data/afl_players_stats_2022.csv\")\n",
    "    #print(df_players_2022.shape)\n",
    "    df_players = pd.concat([df_players_2017, df_players_2018, df_players_2019,df_players_2020,df_players_2021,df_players_2022], axis=0)\n",
    "    #print(df_players.shape)\n",
    "    #df_players.columns\n",
    "    df_fixture = pd.read_csv(\"../data/fixture_2022.csv\")\n",
    "    df_next_games_teams = df_fixture[(df_fixture['status'] != \"CONCLUDED\") & (df_fixture['round.roundNumber'] == 11)]\n",
    "    df_next_games_teams = df_next_games_teams[['home.team.name','away.team.name','venue.name','compSeason.year','round.roundNumber']]\n",
    "    df_next_games_teams = df_next_games_teams.rename(columns={'home.team.name': 'match.homeTeam.name', 'away.team.name': 'match.awayTeam.name','compSeason.year':'round.year'})\n",
    "    df_next_games_teams['match.matchId'] = np.arange(len(df_next_games_teams))\n",
    "    \n",
    "    return df_all, df_players, df_fixture, df_next_games_teams\n",
    "\n",
    "def get_aggregate_player_stats(df=None):\n",
    "\n",
    "    agg_stats = (df.rename(columns={ # Rename columns to lowercase\n",
    "                    'Home.team': 'match.homeTeam.name',\n",
    "                    'Away.team': 'match.awayTeam.name',\n",
    "                    })\n",
    "                   .groupby(by=['Date', 'Season', 'match.homeTeam.name', 'match.awayTeam.name'], as_index=False) # Groupby to aggregate the stats for each game\n",
    "                   .sum()\n",
    "                   #.drop(columns=['DE', 'TOG', 'Match_id']) # Drop columns\n",
    "                   .assign(date=lambda df: pd.to_datetime(df.Date, format=\"%Y-%m-%d\")) # Create a datetime object\n",
    "                   .sort_values(by='Date')\n",
    "                   .reset_index(drop=True))\n",
    "    return agg_stats"
   ]
  },
  {
   "cell_type": "code",
   "execution_count": 310,
   "id": "ad73e060",
   "metadata": {},
   "outputs": [
    {
     "name": "stdout",
     "output_type": "stream",
     "text": [
      "(1072, 123)\n"
     ]
    }
   ],
   "source": [
    "df_all, df_players, df_fixture, df_next_games_teams = load_afl_data()\n",
    "agg_player = get_aggregate_player_stats(df_players)\n",
    "afl_df = df_all.merge(agg_player, on=['Date', 'match.homeTeam.name', 'match.awayTeam.name'], how='left')\n",
    "print(afl_df.shape)"
   ]
  },
  {
   "cell_type": "code",
   "execution_count": 311,
   "id": "6afcc912",
   "metadata": {},
   "outputs": [],
   "source": [
    "# Add average goal diff for home and away team rolling 4 games\n",
    "\n",
    "afl_df['HTGDIFF'] = afl_df['homeTeamScore.matchScore.goals'] - afl_df['awayTeamScore.matchScore.goals']\n",
    "afl_df['ATGDIFF'] = afl_df['awayTeamScore.matchScore.goals'] - afl_df['homeTeamScore.matchScore.goals']\n",
    "\n",
    "def from_dict_value_to_df(d):\n",
    "    \"\"\"\n",
    "    input = dictionary \n",
    "    output = dataframe as part of all the values from the dictionary\n",
    "    \"\"\"\n",
    "    df = pd.DataFrame()\n",
    "    for v in d.values():\n",
    "        df = pd.concat([df,v])\n",
    "    return df\n",
    "\n",
    "def avg_goal_diff(df, avg_h_a_diff, a_h_team, a_h_goal_letter):\n",
    "    \"\"\"\n",
    "    input: \n",
    "        df = dataframe with all results\n",
    "        avg_h_a_diff = name of the new column\n",
    "        a_h_team = HomeTeam or AwayTeam\n",
    "        a_h_goal_letter = 'H' for home or 'A' for away\n",
    "    output: \n",
    "        avg_per_team = dictionary with with team as key and columns as values with new column H/ATGDIFF\n",
    "    \"\"\"\n",
    "    df[avg_h_a_diff] = 0\n",
    "    avg_per_team = {}\n",
    "    all_teams = df[a_h_team].unique()\n",
    "    for t in all_teams:\n",
    "        df_team = df[df[a_h_team]==t].fillna(0)\n",
    "        result = df_team['{}TGDIFF'.format(a_h_goal_letter)].rolling(4).mean()\n",
    "        df_team[avg_h_a_diff] = result\n",
    "        avg_per_team[t] = df_team\n",
    "    return avg_per_team\n",
    "\n",
    "d_AVGFTHG = avg_goal_diff(afl_df, 'AVGHTGDIFF', 'match.homeTeam.name', 'H')\n",
    "df_AVGFTHG = from_dict_value_to_df(d_AVGFTHG)\n",
    "df_AVGFTHG.sort_index(inplace=True)\n",
    "d_AVGFTAG = avg_goal_diff(df_AVGFTHG, 'AVGATGDIFF', 'match.awayTeam.name', 'A')\n",
    "afl_df = from_dict_value_to_df(d_AVGFTAG)\n",
    "afl_df.sort_index(inplace=True)\n",
    "afl_df['AVGATGDIFF'].fillna(0, inplace=True)\n",
    "\n",
    "\n"
   ]
  },
  {
   "cell_type": "code",
   "execution_count": 312,
   "id": "ce4aef66",
   "metadata": {},
   "outputs": [],
   "source": [
    "afl_df['goal_diff'] = afl_df['homeTeamScore.matchScore.goals'] - afl_df['awayTeamScore.matchScore.goals']\n",
    "\n",
    "for index, row in df_all[df_all['match.status']=='CONCLUDED'].iterrows():\n",
    "    if afl_df['goal_diff'][index] > 0:\n",
    "        afl_df.at[index,'result'] = 1   # 1 is a win\n",
    "    else:\n",
    "        afl_df.at[index,'result'] = 0  # 0 is a loss "
   ]
  },
  {
   "cell_type": "code",
   "execution_count": 313,
   "id": "3dc85b1e",
   "metadata": {},
   "outputs": [],
   "source": [
    "def previous_data(df, h_or_a_team, column, letter, past_n):\n",
    "    \"\"\"\n",
    "    input: \n",
    "        df = dataframe with all results\n",
    "        a_h_team = HomeTeam or AwayTeam\n",
    "        column = column selected to get previous data from\n",
    "    output:\n",
    "        team_with_past_dict = dictionary with team as a key and columns as values with new \n",
    "                              columns with past value\n",
    "    \"\"\"\n",
    "    d = dict()\n",
    "    team_with_past_dict = dict()\n",
    "    all_teams = df[h_or_a_team].unique()\n",
    "    for team in all_teams:\n",
    "        n_games = len(df[df[h_or_a_team]==team])\n",
    "        team_with_past_dict[team] = df[df[h_or_a_team]==team]\n",
    "        for i in range(1, past_n):\n",
    "            d[i] = team_with_past_dict[team].assign(\n",
    "                result=team_with_past_dict[team].groupby(h_or_a_team)[column].shift(i)\n",
    "            ).fillna({'{}_X'.format(column): 0})\n",
    "            team_with_past_dict[team]['{}_{}_{}'.format(letter, column, i)] = d[i].result\n",
    "    return team_with_past_dict\n",
    "\n",
    "def previous_data_call(df, side, column, letter, iterations):\n",
    "    d = previous_data(df, side, column, letter, iterations)\n",
    "    df_result= from_dict_value_to_df(d)\n",
    "    df_result.sort_index(inplace=True)\n",
    "    return df_result\n",
    "\n",
    "df_last_home_results = previous_data_call(afl_df, 'match.homeTeam.name', 'result', 'H', 3)\n",
    "df_last_away_results = previous_data_call(df_last_home_results, 'match.awayTeam.name', 'result', 'A', 3)\n",
    "df_last_last_HTGDIFF_results = previous_data_call(df_last_away_results, 'match.homeTeam.name', 'HTGDIFF', 'H', 3)\n",
    "df_last_last_ATGDIFF_results = previous_data_call(df_last_last_HTGDIFF_results, 'match.awayTeam.name', 'ATGDIFF', 'A', 3)\n",
    "df_last_AVGFTHG_results = previous_data_call(df_last_last_ATGDIFF_results, 'match.homeTeam.name', 'AVGHTGDIFF', 'H', 2)\n",
    "df_last_AVGFTAG_results = previous_data_call(df_last_AVGFTHG_results, 'match.awayTeam.name', 'AVGATGDIFF', 'A', 2)\n",
    "afl_df = df_last_AVGFTAG_results.copy()"
   ]
  },
  {
   "cell_type": "code",
   "execution_count": 314,
   "id": "ff6e93d1",
   "metadata": {},
   "outputs": [],
   "source": [
    "\n",
    "all_cols = ['match.matchId','match.date', 'match.status', 'match.venue', 'match.homeTeam.name', 'match.awayTeam.name','venue.name', 'venue.state', 'round.name', 'round.year', 'round.roundNumber', 'status',\n",
    "'homeTeamScore.rushedBehinds', 'homeTeamScore.minutesInFront',\n",
    "       'homeTeamScore.matchScore.totalScore', 'homeTeamScore.matchScore.goals',\n",
    "       'homeTeamScore.matchScore.behinds',\n",
    "       'homeTeamScore.matchScore.superGoals', 'awayTeamScore.rushedBehinds',\n",
    "       'awayTeamScore.minutesInFront', 'awayTeamScore.matchScore.totalScore',\n",
    "       'awayTeamScore.matchScore.goals', 'awayTeamScore.matchScore.behinds',\n",
    "       'awayTeamScore.matchScore.superGoals', 'weather.tempInCelsius',\n",
    "       'homeTeamScoreChart.goals', 'homeTeamScoreChart.leftBehinds',\n",
    "       'homeTeamScoreChart.rightBehinds', 'homeTeamScoreChart.leftPosters',\n",
    "       'homeTeamScoreChart.rightPosters', 'homeTeamScoreChart.rushedBehinds',\n",
    "       'homeTeamScoreChart.touchedBehinds', 'awayTeamScoreChart.goals',\n",
    "       'awayTeamScoreChart.leftBehinds', 'awayTeamScoreChart.rightBehinds',\n",
    "       'awayTeamScoreChart.leftPosters', 'awayTeamScoreChart.rightPosters',\n",
    "       'awayTeamScoreChart.rushedBehinds', 'awayTeamScoreChart.touchedBehinds', \n",
    "       'HQ1G', 'HQ1B', 'HQ2G',\n",
    "       'HQ2B', 'HQ3G', 'HQ3B', 'HQ4G', 'HQ4B', 'Home.score', 'AQ1G', 'AQ1B',\n",
    "       'AQ2G', 'AQ2B', 'AQ3G', 'AQ3B', 'AQ4G', 'AQ4B', 'Away.score',\n",
    "       'Kicks', 'Marks', 'Handballs', 'Goals', 'Behinds', 'Hit.Outs',\n",
    "       'Tackles', 'Rebounds', 'Inside.50s', 'Clearances', 'Clangers',\n",
    "       'Frees.For', 'Frees.Against', 'Brownlow.Votes', 'Contested.Possessions',\n",
    "       'Uncontested.Possessions', 'Contested.Marks', 'Marks.Inside.50',\n",
    "       'One.Percenters', 'Bounces', 'Goal.Assists', 'Time.on.Ground..',\n",
    "       'Substitute', 'group_id', 'HTGDIFF', 'ATGDIFF', 'AVGHTGDIFF',\n",
    "       'AVGATGDIFF', 'goal_diff', 'result', 'H_result_1', 'H_result_2',\n",
    "       'A_result_1', 'A_result_2', 'H_HTGDIFF_1', 'H_HTGDIFF_2', 'A_ATGDIFF_1',\n",
    "       'A_ATGDIFF_2', 'H_AVGHTGDIFF_1', 'A_AVGATGDIFF_1']\n",
    "\n",
    "non_feature_cols = ['match.matchId','match.date', 'match.status', 'match.venue', 'match.homeTeam.name', 'match.awayTeam.name','venue.name', 'venue.state', 'round.name', 'round.year', 'round.roundNumber', 'status','Season']\n",
    "feature_cols = [\n",
    "       'homeTeamScore.rushedBehinds', 'homeTeamScore.minutesInFront',\n",
    "       'homeTeamScore.matchScore.totalScore', 'homeTeamScore.matchScore.goals',\n",
    "       'homeTeamScore.matchScore.behinds',\n",
    "       'homeTeamScore.matchScore.superGoals', 'awayTeamScore.rushedBehinds',\n",
    "       'awayTeamScore.minutesInFront', 'awayTeamScore.matchScore.totalScore',\n",
    "       'awayTeamScore.matchScore.goals', 'awayTeamScore.matchScore.behinds',\n",
    "       'awayTeamScore.matchScore.superGoals', 'weather.tempInCelsius',\n",
    "       'homeTeamScoreChart.goals', 'homeTeamScoreChart.leftBehinds',\n",
    "       'homeTeamScoreChart.rightBehinds', 'homeTeamScoreChart.leftPosters',\n",
    "       'homeTeamScoreChart.rightPosters', 'homeTeamScoreChart.rushedBehinds',\n",
    "       'homeTeamScoreChart.touchedBehinds', 'awayTeamScoreChart.goals',\n",
    "       'awayTeamScoreChart.leftBehinds', 'awayTeamScoreChart.rightBehinds',\n",
    "       'awayTeamScoreChart.leftPosters', 'awayTeamScoreChart.rightPosters',\n",
    "       'awayTeamScoreChart.rushedBehinds', 'awayTeamScoreChart.touchedBehinds', \n",
    "       'HQ1G', 'HQ1B', 'HQ2G',\n",
    "       'HQ2B', 'HQ3G', 'HQ3B', 'HQ4G', 'HQ4B', 'Home.score', 'AQ1G', 'AQ1B',\n",
    "       'AQ2G', 'AQ2B', 'AQ3G', 'AQ3B', 'AQ4G', 'AQ4B', 'Away.score',\n",
    "       'Kicks', 'Marks', 'Handballs', 'Goals', 'Behinds', 'Hit.Outs',\n",
    "       'Tackles', 'Rebounds', 'Inside.50s', 'Clearances', 'Clangers',\n",
    "       'Frees.For', 'Frees.Against', 'Brownlow.Votes', 'Contested.Possessions',\n",
    "       'Uncontested.Possessions', 'Contested.Marks', 'Marks.Inside.50',\n",
    "       'One.Percenters', 'Bounces', 'Goal.Assists', 'Time.on.Ground..',\n",
    "       'Substitute', 'group_id', 'HTGDIFF', 'ATGDIFF', 'AVGHTGDIFF',\n",
    "       'AVGATGDIFF', 'goal_diff', 'result', 'H_result_1', 'H_result_2',\n",
    "       'A_result_1', 'A_result_2', 'H_HTGDIFF_1', 'H_HTGDIFF_2', 'A_ATGDIFF_1',\n",
    "       'A_ATGDIFF_2', 'H_AVGHTGDIFF_1', 'A_AVGATGDIFF_1']"
   ]
  },
  {
   "cell_type": "code",
   "execution_count": null,
   "id": "be06fcb9",
   "metadata": {},
   "outputs": [],
   "source": []
  },
  {
   "cell_type": "code",
   "execution_count": 315,
   "id": "cc778087",
   "metadata": {},
   "outputs": [],
   "source": [
    "afl_df = afl_df[all_cols] \n",
    "\n",
    "afl_df = afl_df.rename(columns={col: 'f_' + col for col in afl_df if col not in non_feature_cols})\n"
   ]
  },
  {
   "cell_type": "code",
   "execution_count": 316,
   "id": "c0c4494f",
   "metadata": {},
   "outputs": [],
   "source": [
    "# Add new round data\n",
    "\n"
   ]
  },
  {
   "cell_type": "code",
   "execution_count": 317,
   "id": "ef6fb453",
   "metadata": {},
   "outputs": [],
   "source": [
    "\n",
    "def create_training_and_test_data(afl_df,df_next_games_teams):\n",
    "    \n",
    "    # Define a function which returns a DataFrame with the expontential moving average for each numeric stat\n",
    "    def create_exp_weighted_avgs(df, span):\n",
    "        # Create a copy of the df with only the game id and the team - we will add cols to this df\n",
    "        ema_features = df[['match.matchId', 'match.homeTeam.name']].copy()\n",
    "\n",
    "        feature_names = [col for col in df.columns if col.startswith('f_')] # Get a list of columns we will iterate over\n",
    "\n",
    "        for feature_name in feature_names:\n",
    "            feature_ema = (df.groupby('match.homeTeam.name')[feature_name]\n",
    "                             .transform(lambda row: (row.ewm(span=span)\n",
    "                                                        .mean()\n",
    "                                                        .shift(1))))\n",
    "            ema_features[feature_name] = feature_ema\n",
    "\n",
    "        return ema_features\n",
    "    \n",
    "    \n",
    "    afl_df['train_data'] = 1\n",
    "    df_next_games_teams['train_data'] = 0\n",
    "    \n",
    "    afl_data = afl_df.append(df_next_games_teams).reset_index(drop=True)\n",
    "    \n",
    "    features_rolling_averages = create_exp_weighted_avgs(afl_data, span=10)\n",
    "    \n",
    "    features = afl_data[['match.date', 'match.matchId', 'match.homeTeam.name', 'match.awayTeam.name', 'venue.name','round.year','train_data']].copy()\n",
    "    features = pd.merge(features, features_rolling_averages, on=['match.matchId', 'match.homeTeam.name'])\n",
    "    \n",
    "    form_btwn_teams = afl_df[['match.matchId', 'match.homeTeam.name', 'match.awayTeam.name', 'f_goal_diff']].copy()\n",
    "\n",
    "\n",
    "#    form_btwn_teams_inv = pd.DataFrame()\n",
    "\n",
    "#    for index, row in form_btwn_teams.iterrows():\n",
    "#        home = row['match.homeTeam.name']\n",
    "#        away = row['match.awayTeam.name']\n",
    "#        matchid = row['match.matchId']\n",
    "#        margin = row['f_goal_diff']\n",
    "\n",
    "#        form_btwn_teams_inv = form_btwn_teams_inv.append({'match.matchId': matchid, 'match.homeTeam.name': away, 'match.awayTeam.name': home, 'f_goal_diff': -1*margin}, ignore_index=True)\n",
    "\n",
    "#    form_btwn_teams['f_form_margin_btwn_teams'] = (form_btwn_teams.groupby(['match.homeTeam.name', 'match.awayTeam.name'])['f_goal_diff']\n",
    "#                                                              .transform(lambda row: row.rolling(5).mean().shift())\n",
    "#                                                              .fillna(0))\n",
    "\n",
    "#    form_btwn_teams['f_form_past_5_btwn_teams'] = \\\n",
    "#    (form_btwn_teams.assign(win=lambda df: df.apply(lambda row: 1 if row.f_goal_diff > 0 else 0, axis='columns'))\n",
    "#                  .groupby(['match.homeTeam.name', 'match.awayTeam.name'])['win']\n",
    "#                  .transform(lambda row: row.rolling(5).mean().shift() * 5)\n",
    "#                  .fillna(0))\n",
    "\n",
    "\n",
    "    #print(features.shape)\n",
    "    # Merge to our features df\n",
    "    #features = pd.merge(features, form_btwn_teams_1.drop(columns=['f_goal_diff']), on=['match.matchId', 'match.homeTeam.name', 'match.awayTeam.name'])\n",
    "    #print(features.shape)\n",
    "\n",
    "\n",
    "    # Get the result and merge to the feature_df\n",
    "\n",
    "    match_results = (afl_df.assign(result=lambda df: df.apply(lambda row: 1 if row['f_goal_diff'] > 0 else 0, axis=1)))\n",
    "    # Merge result column to feature_df\n",
    "    feature_df = pd.merge(features, match_results[['match.matchId', 'result']], on='match.matchId')\n",
    "\n",
    "    return feature_df,features_rolling_averages, afl_data, features\n",
    "    "
   ]
  },
  {
   "cell_type": "code",
   "execution_count": 318,
   "id": "aa8c64cd",
   "metadata": {},
   "outputs": [],
   "source": [
    "feature_df, features_rolling_averages, afl_data, features = create_training_and_test_data(afl_df,df_next_games_teams)\n",
    "feature_columns = [col for col in feature_df if col.startswith('f_')]\n"
   ]
  },
  {
   "cell_type": "code",
   "execution_count": 319,
   "id": "106d5e6f",
   "metadata": {},
   "outputs": [],
   "source": [
    "\n",
    "# Build model from feature_df\n",
    "\n",
    "feature_df = feature_df.dropna()\n",
    "\n",
    "all_X = feature_df.loc[:, feature_columns]\n",
    "all_y = feature_df.loc[:, 'result']\n",
    "\n",
    "X_train, X_test, y_train, y_test = train_test_split(all_X, all_y, test_size=0.30, random_state=42)\n",
    "\n",
    "# Scale features\n",
    "scaler = StandardScaler()\n",
    "X_train[feature_columns] = scaler.fit_transform(X_train[feature_columns])\n",
    "X_test[feature_columns] = scaler.transform(X_test[feature_columns])\n"
   ]
  },
  {
   "cell_type": "code",
   "execution_count": 320,
   "id": "31d55485",
   "metadata": {},
   "outputs": [],
   "source": [
    "# Create a list of standard classifiers\n",
    "classifiers = [\n",
    "    #Ensemble Methods\n",
    "    ensemble.AdaBoostClassifier(),\n",
    "    ensemble.BaggingClassifier(),\n",
    "    ensemble.ExtraTreesClassifier(),\n",
    "    ensemble.GradientBoostingClassifier(),\n",
    "    ensemble.RandomForestClassifier(),\n",
    "\n",
    "    #Gaussian Processes\n",
    "    gaussian_process.GaussianProcessClassifier(),\n",
    "    \n",
    "    #GLM\n",
    "    linear_model.LogisticRegressionCV(),\n",
    "    \n",
    "    #Navies Bayes\n",
    "    naive_bayes.BernoulliNB(),\n",
    "    naive_bayes.GaussianNB(),\n",
    "    \n",
    "    #SVM\n",
    "    svm.SVC(probability=True),\n",
    "    svm.NuSVC(probability=True),\n",
    "    \n",
    "    #Discriminant Analysis\n",
    "    discriminant_analysis.LinearDiscriminantAnalysis(),\n",
    "    discriminant_analysis.QuadraticDiscriminantAnalysis(),\n",
    "\n",
    "    \n",
    "    #xgboost: http://xgboost.readthedocs.io/en/latest/model.html\n",
    "    XGBClassifier()    \n",
    "]\n",
    "\n",
    "# Define a functiom which finds the best algorithms for our modelling task\n",
    "def find_best_algorithms(classifier_list, X, y):\n",
    "    # This function is adapted from https://www.kaggle.com/yassineghouzam/titanic-top-4-with-ensemble-modeling\n",
    "    # Cross validate model with Kfold stratified cross validation\n",
    "    kfold = StratifiedKFold(n_splits=5)\n",
    "    \n",
    "    # Grab the cross validation scores for each algorithm\n",
    "    cv_results = [cross_val_score(classifier, X, y, scoring = \"neg_log_loss\", cv = kfold) for classifier in classifier_list]\n",
    "    cv_means = [cv_result.mean() * -1 for cv_result in cv_results]\n",
    "    cv_std = [cv_result.std() for cv_result in cv_results]\n",
    "    algorithm_names = [alg.__class__.__name__ for alg in classifiers]\n",
    "    \n",
    "    # Create a DataFrame of all the CV results\n",
    "    cv_results = pd.DataFrame({\n",
    "        \"Mean Log Loss\": cv_means,\n",
    "        \"Log Loss Std\": cv_std,\n",
    "        \"Algorithm\": algorithm_names\n",
    "    })\n",
    "    \n",
    "    \n",
    "    return cv_results.sort_values(by='Mean Log Loss').reset_index(drop=True)"
   ]
  },
  {
   "cell_type": "code",
   "execution_count": 321,
   "id": "45437929",
   "metadata": {},
   "outputs": [
    {
     "name": "stdout",
     "output_type": "stream",
     "text": [
      "[09:25:26] WARNING: ..\\src\\learner.cc:1115: Starting in XGBoost 1.3.0, the default evaluation metric used with the objective 'binary:logistic' was changed from 'error' to 'logloss'. Explicitly set eval_metric if you'd like to restore the old behavior.\n",
      "[09:25:26] WARNING: ..\\src\\learner.cc:1115: Starting in XGBoost 1.3.0, the default evaluation metric used with the objective 'binary:logistic' was changed from 'error' to 'logloss'. Explicitly set eval_metric if you'd like to restore the old behavior.\n",
      "[09:25:26] WARNING: ..\\src\\learner.cc:1115: Starting in XGBoost 1.3.0, the default evaluation metric used with the objective 'binary:logistic' was changed from 'error' to 'logloss'. Explicitly set eval_metric if you'd like to restore the old behavior.\n",
      "[09:25:27] WARNING: ..\\src\\learner.cc:1115: Starting in XGBoost 1.3.0, the default evaluation metric used with the objective 'binary:logistic' was changed from 'error' to 'logloss'. Explicitly set eval_metric if you'd like to restore the old behavior.\n",
      "[09:25:27] WARNING: ..\\src\\learner.cc:1115: Starting in XGBoost 1.3.0, the default evaluation metric used with the objective 'binary:logistic' was changed from 'error' to 'logloss'. Explicitly set eval_metric if you'd like to restore the old behavior.\n"
     ]
    },
    {
     "data": {
      "text/html": [
       "<div>\n",
       "<style scoped>\n",
       "    .dataframe tbody tr th:only-of-type {\n",
       "        vertical-align: middle;\n",
       "    }\n",
       "\n",
       "    .dataframe tbody tr th {\n",
       "        vertical-align: top;\n",
       "    }\n",
       "\n",
       "    .dataframe thead th {\n",
       "        text-align: right;\n",
       "    }\n",
       "</style>\n",
       "<table border=\"1\" class=\"dataframe\">\n",
       "  <thead>\n",
       "    <tr style=\"text-align: right;\">\n",
       "      <th></th>\n",
       "      <th>Mean Log Loss</th>\n",
       "      <th>Log Loss Std</th>\n",
       "      <th>Algorithm</th>\n",
       "    </tr>\n",
       "  </thead>\n",
       "  <tbody>\n",
       "    <tr>\n",
       "      <th>0</th>\n",
       "      <td>0.673375</td>\n",
       "      <td>0.004213</td>\n",
       "      <td>NuSVC</td>\n",
       "    </tr>\n",
       "    <tr>\n",
       "      <th>1</th>\n",
       "      <td>0.674561</td>\n",
       "      <td>0.010223</td>\n",
       "      <td>SVC</td>\n",
       "    </tr>\n",
       "    <tr>\n",
       "      <th>2</th>\n",
       "      <td>0.680029</td>\n",
       "      <td>0.013741</td>\n",
       "      <td>RandomForestClassifier</td>\n",
       "    </tr>\n",
       "    <tr>\n",
       "      <th>3</th>\n",
       "      <td>0.682376</td>\n",
       "      <td>0.007437</td>\n",
       "      <td>LogisticRegressionCV</td>\n",
       "    </tr>\n",
       "    <tr>\n",
       "      <th>4</th>\n",
       "      <td>0.689850</td>\n",
       "      <td>0.002923</td>\n",
       "      <td>AdaBoostClassifier</td>\n",
       "    </tr>\n",
       "    <tr>\n",
       "      <th>5</th>\n",
       "      <td>0.692066</td>\n",
       "      <td>0.000458</td>\n",
       "      <td>GaussianProcessClassifier</td>\n",
       "    </tr>\n",
       "    <tr>\n",
       "      <th>6</th>\n",
       "      <td>0.700618</td>\n",
       "      <td>0.033103</td>\n",
       "      <td>ExtraTreesClassifier</td>\n",
       "    </tr>\n",
       "    <tr>\n",
       "      <th>7</th>\n",
       "      <td>0.723719</td>\n",
       "      <td>0.028737</td>\n",
       "      <td>GradientBoostingClassifier</td>\n",
       "    </tr>\n",
       "    <tr>\n",
       "      <th>8</th>\n",
       "      <td>0.754308</td>\n",
       "      <td>0.026693</td>\n",
       "      <td>LinearDiscriminantAnalysis</td>\n",
       "    </tr>\n",
       "    <tr>\n",
       "      <th>9</th>\n",
       "      <td>0.910213</td>\n",
       "      <td>0.170140</td>\n",
       "      <td>BaggingClassifier</td>\n",
       "    </tr>\n",
       "    <tr>\n",
       "      <th>10</th>\n",
       "      <td>0.945827</td>\n",
       "      <td>0.075887</td>\n",
       "      <td>XGBClassifier</td>\n",
       "    </tr>\n",
       "    <tr>\n",
       "      <th>11</th>\n",
       "      <td>1.951853</td>\n",
       "      <td>0.186786</td>\n",
       "      <td>BernoulliNB</td>\n",
       "    </tr>\n",
       "    <tr>\n",
       "      <th>12</th>\n",
       "      <td>2.214817</td>\n",
       "      <td>0.114857</td>\n",
       "      <td>GaussianNB</td>\n",
       "    </tr>\n",
       "    <tr>\n",
       "      <th>13</th>\n",
       "      <td>10.606834</td>\n",
       "      <td>2.568346</td>\n",
       "      <td>QuadraticDiscriminantAnalysis</td>\n",
       "    </tr>\n",
       "  </tbody>\n",
       "</table>\n",
       "</div>"
      ],
      "text/plain": [
       "    Mean Log Loss  Log Loss Std                      Algorithm\n",
       "0        0.673375      0.004213                          NuSVC\n",
       "1        0.674561      0.010223                            SVC\n",
       "2        0.680029      0.013741         RandomForestClassifier\n",
       "3        0.682376      0.007437           LogisticRegressionCV\n",
       "4        0.689850      0.002923             AdaBoostClassifier\n",
       "5        0.692066      0.000458      GaussianProcessClassifier\n",
       "6        0.700618      0.033103           ExtraTreesClassifier\n",
       "7        0.723719      0.028737     GradientBoostingClassifier\n",
       "8        0.754308      0.026693     LinearDiscriminantAnalysis\n",
       "9        0.910213      0.170140              BaggingClassifier\n",
       "10       0.945827      0.075887                  XGBClassifier\n",
       "11       1.951853      0.186786                    BernoulliNB\n",
       "12       2.214817      0.114857                     GaussianNB\n",
       "13      10.606834      2.568346  QuadraticDiscriminantAnalysis"
      ]
     },
     "execution_count": 321,
     "metadata": {},
     "output_type": "execute_result"
    }
   ],
   "source": [
    "best_algos = find_best_algorithms(classifiers, X_train, y_train)\n",
    "best_algos\n"
   ]
  },
  {
   "cell_type": "code",
   "execution_count": 322,
   "id": "608f39e4",
   "metadata": {},
   "outputs": [
    {
     "data": {
      "text/plain": [
       "0.5690140845070422"
      ]
     },
     "execution_count": 322,
     "metadata": {},
     "output_type": "execute_result"
    }
   ],
   "source": [
    "kfold = StratifiedKFold(n_splits=5)\n",
    "cv_scores = cross_val_score(ensemble.RandomForestClassifier(), X_train, y_train, scoring='accuracy', cv=kfold)\n",
    "cv_scores.mean()"
   ]
  },
  {
   "cell_type": "code",
   "execution_count": 352,
   "id": "86136980",
   "metadata": {},
   "outputs": [
    {
     "data": {
      "text/plain": [
       "0"
      ]
     },
     "execution_count": 352,
     "metadata": {},
     "output_type": "execute_result"
    }
   ],
   "source": []
  },
  {
   "cell_type": "code",
   "execution_count": 323,
   "id": "383c6493",
   "metadata": {},
   "outputs": [
    {
     "data": {
      "text/plain": [
       "0.5690140845070422"
      ]
     },
     "execution_count": 323,
     "metadata": {},
     "output_type": "execute_result"
    }
   ],
   "source": [
    "# Try a logistic regression model and see how it performs in terms of accuracy\n",
    "kfold = StratifiedKFold(n_splits=5)\n",
    "cv_scores = cross_val_score(linear_model.LogisticRegressionCV(), X_train, y_train, scoring='accuracy', cv=kfold)\n",
    "cv_scores.mean()"
   ]
  },
  {
   "cell_type": "code",
   "execution_count": 347,
   "id": "f0530816",
   "metadata": {},
   "outputs": [
    {
     "data": {
      "text/plain": [
       "nan"
      ]
     },
     "execution_count": 347,
     "metadata": {},
     "output_type": "execute_result"
    }
   ],
   "source": [
    "#new_scorer(X_train, y_train)\n",
    "\n",
    "kfold = StratifiedKFold(n_splits=5)\n",
    "cv_scores = cross_val_score(linear_model.LogisticRegressionCV(), X_train, y_train, scoring=new_scorer, cv=kfold)\n",
    "cv_scores.mean()"
   ]
  },
  {
   "cell_type": "code",
   "execution_count": 344,
   "id": "0f8e1946",
   "metadata": {},
   "outputs": [
    {
     "name": "stdout",
     "output_type": "stream",
     "text": [
      "[09:35:30] WARNING: ..\\src\\learner.cc:1115: Starting in XGBoost 1.3.0, the default evaluation metric used with the objective 'binary:logistic' was changed from 'error' to 'logloss'. Explicitly set eval_metric if you'd like to restore the old behavior.\n",
      "[09:35:30] WARNING: ..\\src\\learner.cc:1115: Starting in XGBoost 1.3.0, the default evaluation metric used with the objective 'binary:logistic' was changed from 'error' to 'logloss'. Explicitly set eval_metric if you'd like to restore the old behavior.\n",
      "[09:35:30] WARNING: ..\\src\\learner.cc:1115: Starting in XGBoost 1.3.0, the default evaluation metric used with the objective 'binary:logistic' was changed from 'error' to 'logloss'. Explicitly set eval_metric if you'd like to restore the old behavior.\n",
      "[09:35:31] WARNING: ..\\src\\learner.cc:1115: Starting in XGBoost 1.3.0, the default evaluation metric used with the objective 'binary:logistic' was changed from 'error' to 'logloss'. Explicitly set eval_metric if you'd like to restore the old behavior.\n",
      "[09:35:31] WARNING: ..\\src\\learner.cc:1115: Starting in XGBoost 1.3.0, the default evaluation metric used with the objective 'binary:logistic' was changed from 'error' to 'logloss'. Explicitly set eval_metric if you'd like to restore the old behavior.\n"
     ]
    },
    {
     "data": {
      "text/plain": [
       "nan"
      ]
     },
     "execution_count": 344,
     "metadata": {},
     "output_type": "execute_result"
    }
   ],
   "source": [
    "kfold = StratifiedKFold(n_splits=5)\n",
    "cv_scores = cross_val_score(XGBClassifier(), X_train, y_train, scoring=new_scorer, cv=kfold)\n",
    "cv_scores.mean()"
   ]
  },
  {
   "cell_type": "code",
   "execution_count": null,
   "id": "50ac4698",
   "metadata": {},
   "outputs": [],
   "source": []
  },
  {
   "cell_type": "code",
   "execution_count": null,
   "id": "fb3732cd",
   "metadata": {},
   "outputs": [],
   "source": []
  },
  {
   "cell_type": "code",
   "execution_count": null,
   "id": "5d5514e1",
   "metadata": {},
   "outputs": [],
   "source": []
  },
  {
   "cell_type": "code",
   "execution_count": 325,
   "id": "b0607fad",
   "metadata": {},
   "outputs": [],
   "source": [
    "# Define a function which optimises the hyperparameters of our chosen algorithms\n",
    "def optimise_hyperparameters(train_x, train_y, algorithms, parameters):\n",
    "    kfold = StratifiedKFold(n_splits=5)\n",
    "    best_estimators = []\n",
    "    \n",
    "    for alg, params in zip(algorithms, parameters):\n",
    "        gs = GridSearchCV(alg, param_grid=params, cv=kfold, scoring='neg_log_loss', verbose=1)\n",
    "        gs.fit(train_x, train_y)\n",
    "        best_estimators.append(gs.best_estimator_)\n",
    "    return best_estimators\n",
    "\n",
    "# Define our parameters to run a grid search over\n",
    "lr_grid = {\n",
    "    \"C\": [0.0001, 0.001, 0.01, 0.05, 0.2, 0.5],\n",
    "    \"solver\": [\"newton-cg\", \"lbfgs\", \"liblinear\"]\n",
    "}\n",
    "\n",
    "# Add our algorithms and parameters to lists to be used in our function\n",
    "alg_list = [LogisticRegression(), XGBClassifier(), ensemble.RandomForestClassifier()]\n",
    "param_list = [lr_grid]"
   ]
  },
  {
   "cell_type": "code",
   "execution_count": 326,
   "id": "d2f2621d",
   "metadata": {},
   "outputs": [
    {
     "name": "stdout",
     "output_type": "stream",
     "text": [
      "Fitting 5 folds for each of 18 candidates, totalling 90 fits\n"
     ]
    }
   ],
   "source": [
    "# Find the best estimators, then add our other estimators which don't need optimisation\n",
    "best_estimators = optimise_hyperparameters(X_train, y_train, alg_list, param_list)"
   ]
  },
  {
   "cell_type": "code",
   "execution_count": 327,
   "id": "cea1c8c4",
   "metadata": {},
   "outputs": [
    {
     "data": {
      "text/plain": [
       "{'C': 0.001,\n",
       " 'class_weight': None,\n",
       " 'dual': False,\n",
       " 'fit_intercept': True,\n",
       " 'intercept_scaling': 1,\n",
       " 'l1_ratio': None,\n",
       " 'max_iter': 100,\n",
       " 'multi_class': 'auto',\n",
       " 'n_jobs': None,\n",
       " 'penalty': 'l2',\n",
       " 'random_state': None,\n",
       " 'solver': 'liblinear',\n",
       " 'tol': 0.0001,\n",
       " 'verbose': 0,\n",
       " 'warm_start': False}"
      ]
     },
     "execution_count": 327,
     "metadata": {},
     "output_type": "execute_result"
    }
   ],
   "source": [
    "lr_best_params = best_estimators[0].get_params()\n",
    "lr_best_params"
   ]
  },
  {
   "cell_type": "code",
   "execution_count": 328,
   "id": "0a6ef778",
   "metadata": {},
   "outputs": [
    {
     "data": {
      "text/plain": [
       "-0.6745408805217019"
      ]
     },
     "execution_count": 328,
     "metadata": {},
     "output_type": "execute_result"
    }
   ],
   "source": [
    "kfold = StratifiedKFold(n_splits=10)\n",
    "cv_scores = cross_val_score(linear_model.LogisticRegression(**lr_best_params), X_train, y_train, scoring='neg_log_loss', cv=kfold)\n",
    "cv_scores.mean()"
   ]
  },
  {
   "cell_type": "code",
   "execution_count": 329,
   "id": "18327494",
   "metadata": {},
   "outputs": [
    {
     "name": "stdout",
     "output_type": "stream",
     "text": [
      "Our accuracy in predicting test data is: 59.67%\n"
     ]
    }
   ],
   "source": [
    "lr = LogisticRegression(**lr_best_params)\n",
    "lr.fit(X_train, y_train)\n",
    "final_predictions_lr = lr.predict(X_test)\n",
    "\n",
    "accuracy = (final_predictions_lr == y_test).mean() * 100\n",
    "\n",
    "print(\"Our accuracy in predicting test data is: {:.2f}%\".format(accuracy))"
   ]
  },
  {
   "cell_type": "code",
   "execution_count": 330,
   "id": "89505822",
   "metadata": {},
   "outputs": [
    {
     "name": "stdout",
     "output_type": "stream",
     "text": [
      "[09:25:33] WARNING: ..\\src\\learner.cc:576: \n",
      "Parameters: { \"C\", \"dual\", \"fit_intercept\", \"intercept_scaling\", \"max_iter\", \"multi_class\", \"penalty\", \"solver\", \"tol\", \"verbose\", \"warm_start\" } might not be used.\n",
      "\n",
      "  This could be a false alarm, with some parameters getting used by language bindings but\n",
      "  then being mistakenly passed down to XGBoost core, or some parameter actually being used\n",
      "  but getting flagged wrongly here. Please open an issue if you find any such cases.\n",
      "\n",
      "\n",
      "[09:25:33] WARNING: ..\\src\\learner.cc:1115: Starting in XGBoost 1.3.0, the default evaluation metric used with the objective 'binary:logistic' was changed from 'error' to 'logloss'. Explicitly set eval_metric if you'd like to restore the old behavior.\n",
      "Our accuracy in predicting test data is: 56.72%\n"
     ]
    }
   ],
   "source": [
    "xgb = XGBClassifier(**lr_best_params)\n",
    "xgb.fit(X_train, y_train)\n",
    "final_predictions_xgb = xgb.predict(X_test)\n",
    "\n",
    "accuracy = (final_predictions_xgb == y_test).mean() * 100\n",
    "\n",
    "print(\"Our accuracy in predicting test data is: {:.2f}%\".format(accuracy))"
   ]
  },
  {
   "cell_type": "code",
   "execution_count": 331,
   "id": "365b5952",
   "metadata": {},
   "outputs": [
    {
     "name": "stdout",
     "output_type": "stream",
     "text": [
      "Our accuracy in predicting test data is: 60.00%\n"
     ]
    }
   ],
   "source": [
    "svm_model = svm.SVC()\n",
    "svm_model.fit(X_train, y_train)\n",
    "final_predictions_svm = svm_model.predict(X_test)\n",
    "\n",
    "accuracy = (final_predictions_svm == y_test).mean() * 100\n",
    "\n",
    "print(\"Our accuracy in predicting test data is: {:.2f}%\".format(accuracy))\n",
    "\n"
   ]
  },
  {
   "cell_type": "code",
   "execution_count": 340,
   "id": "cd4a3d36",
   "metadata": {},
   "outputs": [],
   "source": [
    "def new_scorer(y,y_pred):\n",
    "    xx = pd.DataFrame({'y':list(y), 'y_pred': list(y_pred)}, columns=['y','y_pred'])     \n",
    "    xx.loc[xx['y'].astype(int)==0,'actual_score'] = 1+np.log2(1-xx['y_pred'].astype(float))\n",
    "   \n",
    "    xx.loc[xx['y'].astype(int)==1,'actual_score'] = 1+np.log2(xx['y_pred'].astype(float))\n",
    "   \n",
    "    return np.mean(xx['actual_score'])"
   ]
  },
  {
   "cell_type": "code",
   "execution_count": 333,
   "id": "8f1779cc",
   "metadata": {},
   "outputs": [],
   "source": [
    "#new_scorer(y_test,final_predictions)"
   ]
  },
  {
   "cell_type": "code",
   "execution_count": 356,
   "id": "3d3d8675",
   "metadata": {},
   "outputs": [
    {
     "name": "stdout",
     "output_type": "stream",
     "text": [
      "Feature Importance: f_Goal.Assists                      4.2%\n",
      "Feature Importance: f_One.Percenters                    2.88%\n",
      "Feature Importance: f_Clearances                        2.56%\n",
      "Feature Importance: f_homeTeamScore.minutesInFront      2.47%\n",
      "Feature Importance: f_H_result_2                        2.42%\n",
      "Feature Importance: f_result                            2.39%\n",
      "Feature Importance: f_Contested.Possessions             2.32%\n",
      "Feature Importance: f_homeTeamScore.matchScore.totalScore 2.24%\n",
      "Feature Importance: f_Tackles                           2.17%\n",
      "Feature Importance: f_HQ3G                              2.01%\n",
      "Feature Importance: f_AQ4B                              1.99%\n",
      "Feature Importance: f_homeTeamScoreChart.leftBehinds    1.96%\n",
      "Feature Importance: f_H_HTGDIFF_2                       1.93%\n",
      "Feature Importance: f_awayTeamScoreChart.leftPosters    1.9%\n",
      "Feature Importance: f_A_AVGATGDIFF_1                    1.88%\n",
      "Feature Importance: f_A_ATGDIFF_2                       1.81%\n",
      "Feature Importance: f_Marks                             1.79%\n",
      "Feature Importance: f_AQ3B                              1.77%\n",
      "Feature Importance: f_homeTeamScore.matchScore.goals    1.72%\n",
      "Feature Importance: f_awayTeamScore.minutesInFront      1.65%\n",
      "Feature Importance: f_homeTeamScoreChart.touchedBehinds 1.54%\n",
      "Feature Importance: f_awayTeamScoreChart.touchedBehinds 1.54%\n",
      "Feature Importance: f_Goals                             1.54%\n",
      "Feature Importance: f_Brownlow.Votes                    1.54%\n",
      "Feature Importance: f_homeTeamScoreChart.rightPosters   1.53%\n",
      "Feature Importance: f_AVGHTGDIFF                        1.53%\n",
      "Feature Importance: f_awayTeamScoreChart.rightPosters   1.52%\n",
      "Feature Importance: f_HQ4G                              1.46%\n",
      "Feature Importance: f_A_result_2                        1.46%\n",
      "Feature Importance: f_HQ2B                              1.45%\n",
      "Feature Importance: f_homeTeamScore.matchScore.behinds  1.44%\n",
      "Feature Importance: f_awayTeamScore.matchScore.goals    1.42%\n",
      "Feature Importance: f_A_ATGDIFF_1                       1.4%\n",
      "Feature Importance: f_awayTeamScore.rushedBehinds       1.35%\n",
      "Feature Importance: f_awayTeamScoreChart.leftBehinds    1.27%\n",
      "Feature Importance: f_homeTeamScore.rushedBehinds       1.26%\n",
      "Feature Importance: f_awayTeamScore.matchScore.totalScore 1.26%\n",
      "Feature Importance: f_Kicks                             1.26%\n",
      "Feature Importance: f_Clangers                          1.26%\n",
      "Feature Importance: f_H_HTGDIFF_1                       1.26%\n",
      "Feature Importance: f_awayTeamScoreChart.rightBehinds   1.25%\n",
      "Feature Importance: f_HQ3B                              1.23%\n",
      "Feature Importance: f_homeTeamScoreChart.leftPosters    1.19%\n",
      "Feature Importance: f_HQ2G                              1.19%\n",
      "Feature Importance: f_Home.score                        1.19%\n",
      "Feature Importance: f_Hit.Outs                          1.18%\n",
      "Feature Importance: f_Rebounds                          1.18%\n",
      "Feature Importance: f_H_result_1                        1.18%\n",
      "Feature Importance: f_HQ4B                              1.12%\n",
      "Feature Importance: f_AQ1G                              1.1%\n",
      "Feature Importance: f_awayTeamScore.matchScore.behinds  1.05%\n",
      "Feature Importance: f_AQ2B                              1.03%\n",
      "Feature Importance: f_AVGATGDIFF                        1.01%\n",
      "Feature Importance: f_homeTeamScoreChart.rightBehinds   1.0%\n",
      "Feature Importance: f_HQ1B                              0.99%\n",
      "Feature Importance: f_weather.tempInCelsius             0.93%\n",
      "Feature Importance: f_Time.on.Ground..                  0.91%\n",
      "Feature Importance: f_HQ1G                              0.9%\n",
      "Feature Importance: f_AQ4G                              0.89%\n",
      "Feature Importance: f_Bounces                           0.88%\n",
      "Feature Importance: f_Contested.Marks                   0.82%\n",
      "Feature Importance: f_HTGDIFF                           0.78%\n",
      "Feature Importance: f_A_result_1                        0.74%\n",
      "Feature Importance: f_Frees.For                         0.68%\n",
      "Feature Importance: f_H_AVGHTGDIFF_1                    0.66%\n",
      "Feature Importance: f_Marks.Inside.50                   0.53%\n",
      "Feature Importance: f_AQ1B                              0.39%\n",
      "Feature Importance: f_AQ2G                              0.33%\n",
      "Feature Importance: f_Behinds                           0.3%\n",
      "Feature Importance: f_Uncontested.Possessions           0.26%\n",
      "Feature Importance: f_Handballs                         0.24%\n",
      "Feature Importance: f_Away.score                        0.22%\n",
      "Feature Importance: f_Frees.Against                     0.17%\n",
      "Feature Importance: f_AQ3G                              0.15%\n",
      "Feature Importance: f_homeTeamScore.matchScore.superGoals 0.0%\n",
      "Feature Importance: f_awayTeamScore.matchScore.superGoals 0.0%\n",
      "Feature Importance: f_homeTeamScoreChart.goals          0.0%\n",
      "Feature Importance: f_homeTeamScoreChart.rushedBehinds  0.0%\n",
      "Feature Importance: f_awayTeamScoreChart.goals          0.0%\n",
      "Feature Importance: f_awayTeamScoreChart.rushedBehinds  0.0%\n",
      "Feature Importance: f_Inside.50s                        0.0%\n",
      "Feature Importance: f_Substitute                        0.0%\n",
      "Feature Importance: f_group_id                          0.0%\n",
      "Feature Importance: f_ATGDIFF                           0.0%\n",
      "Feature Importance: f_goal_diff                         0.0%\n"
     ]
    }
   ],
   "source": [
    "importance = np.round(xgb.feature_importances_,4)\n",
    "dictionary = dict(zip(feature_columns, importance))\n",
    "sorted_dictionary=sorted(dictionary.items(), key=lambda x:x[1], reverse=True)\n",
    "names=[]\n",
    "values=[]\n",
    "for i in range(0, len(importance)):\n",
    "    print('Feature Importance: {:35} {}%'.format(\n",
    "        sorted_dictionary[i][0], np.round(sorted_dictionary[i][1]*100,4))\n",
    "         )\n",
    "    names.append(sorted_dictionary[i][0])\n",
    "    values.append(np.round(sorted_dictionary[i][1]*100,4))"
   ]
  },
  {
   "cell_type": "code",
   "execution_count": null,
   "id": "c121f4f4",
   "metadata": {},
   "outputs": [],
   "source": []
  },
  {
   "cell_type": "code",
   "execution_count": null,
   "id": "be0bd5e7",
   "metadata": {},
   "outputs": [],
   "source": []
  },
  {
   "cell_type": "code",
   "execution_count": 334,
   "id": "ba3ef9be",
   "metadata": {},
   "outputs": [],
   "source": [
    "next_round_features = features[features['train_data']==0][feature_columns]\n",
    "\n",
    "next_round_predictions = lr.predict(next_round_features)\n"
   ]
  },
  {
   "cell_type": "code",
   "execution_count": 335,
   "id": "3492d220",
   "metadata": {},
   "outputs": [
    {
     "data": {
      "text/plain": [
       "array([1, 1, 1, 1, 0, 0, 1, 0, 0], dtype=int64)"
      ]
     },
     "execution_count": 335,
     "metadata": {},
     "output_type": "execute_result"
    }
   ],
   "source": [
    "next_round_predictions"
   ]
  },
  {
   "cell_type": "code",
   "execution_count": 336,
   "id": "106867dd",
   "metadata": {},
   "outputs": [
    {
     "data": {
      "text/plain": [
       "array([[0.2287226 , 0.7712774 ],\n",
       "       [0.0016452 , 0.9983548 ],\n",
       "       [0.07310986, 0.92689014],\n",
       "       [0.00208952, 0.99791048],\n",
       "       [0.89444607, 0.10555393],\n",
       "       [0.61807734, 0.38192266],\n",
       "       [0.49454688, 0.50545312],\n",
       "       [0.99592871, 0.00407129],\n",
       "       [0.99036463, 0.00963537]])"
      ]
     },
     "execution_count": 336,
     "metadata": {},
     "output_type": "execute_result"
    }
   ],
   "source": [
    "prediction_probs = lr.predict_proba(next_round_features)\n",
    "prediction_probs"
   ]
  },
  {
   "cell_type": "code",
   "execution_count": 337,
   "id": "2b515acd",
   "metadata": {},
   "outputs": [
    {
     "data": {
      "text/plain": [
       "array([0, 1, 1, 1, 1, 1, 1, 1, 0], dtype=int64)"
      ]
     },
     "execution_count": 337,
     "metadata": {},
     "output_type": "execute_result"
    }
   ],
   "source": [
    "\n",
    "next_round_predictions_xgb = xgb.predict(next_round_features)\n",
    "next_round_predictions_xgb"
   ]
  },
  {
   "cell_type": "code",
   "execution_count": 338,
   "id": "c4f340b5",
   "metadata": {},
   "outputs": [
    {
     "data": {
      "text/plain": [
       "array([1, 1, 1, 1, 1, 1, 1, 1, 1], dtype=int64)"
      ]
     },
     "execution_count": 338,
     "metadata": {},
     "output_type": "execute_result"
    }
   ],
   "source": [
    "\n",
    "next_round_predictions_svm = svm_model.predict(next_round_features)\n",
    "next_round_predictions_svm"
   ]
  },
  {
   "cell_type": "code",
   "execution_count": null,
   "id": "59db66a9",
   "metadata": {},
   "outputs": [],
   "source": []
  },
  {
   "cell_type": "code",
   "execution_count": null,
   "id": "bbfa502d",
   "metadata": {},
   "outputs": [],
   "source": []
  },
  {
   "cell_type": "code",
   "execution_count": null,
   "id": "ede7735e",
   "metadata": {},
   "outputs": [],
   "source": []
  },
  {
   "cell_type": "code",
   "execution_count": null,
   "id": "4186b52a",
   "metadata": {},
   "outputs": [],
   "source": [
    "\n",
    "\n",
    "# Can we train and retrain model to get max score for a Round?\n",
    "\n",
    "# predict rounds and plot score based on model\n",
    "\n",
    "\n"
   ]
  }
 ],
 "metadata": {
  "kernelspec": {
   "display_name": "Python 3 (ipykernel)",
   "language": "python",
   "name": "python3"
  },
  "language_info": {
   "codemirror_mode": {
    "name": "ipython",
    "version": 3
   },
   "file_extension": ".py",
   "mimetype": "text/x-python",
   "name": "python",
   "nbconvert_exporter": "python",
   "pygments_lexer": "ipython3",
   "version": "3.8.12"
  }
 },
 "nbformat": 4,
 "nbformat_minor": 5
}
